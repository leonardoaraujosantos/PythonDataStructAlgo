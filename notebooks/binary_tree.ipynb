{
 "cells": [
  {
   "cell_type": "markdown",
   "metadata": {},
   "source": [
    "# Binary Tree\n",
    "In computer science, binary search trees (BST), sometimes called ordered or sorted binary trees, are a particular type of container: a data structure that stores \"items\" (such as numbers, names etc.) in memory. They allow fast lookup, addition and removal of items, and can be used to implement either dynamic sets of items, or lookup tables that allow finding an item by its key (e.g., finding the phone number of a person by name).\n",
    "\n",
    "Binary search trees keep their keys in sorted order, so that lookup and other operations can use the principle of binary search: when looking for a key in a tree (or a place to insert a new key), they traverse the tree from root to leaf, making comparisons to keys stored in the nodes of the tree and deciding, on the basis of the comparison, to continue searching in the left or right subtrees.\n",
    "\n",
    "<img src=\"docs/imgs/binary_search.png\">\n",
    "\n",
    "On best case scenario Binary Trees had their operations: (Insert,Delete,Search) in O(log(n)), which is better than linked list O(n) but still worse than hash tables.\n",
    "\n",
    "#### References\n",
    "* https://en.wikipedia.org/wiki/Binary_search_tree\n",
    "* https://www.geeksforgeeks.org/insertion-in-a-binary-tree-in-level-order/\n",
    "* https://www.youtube.com/watch?v=qH6yxkw0u78\n",
    "* http://openbookproject.net/thinkcs/python/english3e/trees.html\n",
    "* https://stackoverflow.com/questions/2598437/how-to-implement-a-binary-tree\n",
    "* https://en.wikipedia.org/wiki/Breadth-first_search"
   ]
  },
  {
   "cell_type": "code",
   "execution_count": 1,
   "metadata": {},
   "outputs": [],
   "source": [
    "class Node:\n",
    "    def __init__(self, value):\n",
    "        self.value = value\n",
    "        self.left = None\n",
    "        self.right = None\n",
    "    \n",
    "    def __eq__(self, obj):\n",
    "        if isinstance(obj, Node):\n",
    "            print('Obj is Node')\n",
    "            return obj.value == self.value\n",
    "        else:\n",
    "            print('Obj is not')\n",
    "            return self == obj\n",
    "    \n",
    "    def __str__(self):\n",
    "        return str(self.value)\n",
    "\n",
    "class BinaryTree:\n",
    "    def __init__(self, value):\n",
    "        self.root = Node(value)\n",
    "        self.num_nodes = 0\n",
    "        self.last_node = self.root\n",
    "        self.node_lst = [self.root]\n",
    "    \n",
    "    def insert(self, value, node=None):\n",
    "        \"\"\"\n",
    "        Recursive insert that add smaller nodes to the left, and bigger nodes\n",
    "        to the right\n",
    "        \"\"\"\n",
    "        if(node is None):\n",
    "            self.root = Node(value)\n",
    "        else:\n",
    "            # If value is smaller than current node add to the left\n",
    "            if(value<node.value):\n",
    "                # Add at left of node if there is space\n",
    "                if(node.left is None):\n",
    "                    node.left = Node(value)\n",
    "                else:\n",
    "                    self.insert(value, node.left)\n",
    "            else:\n",
    "                # If value is bigger than current node add to the left\n",
    "                # Add at right of node if there is space\n",
    "                if(node.right is None):\n",
    "                    node.right = Node(value)\n",
    "                else:\n",
    "                    self.insert(value, node.right)\n",
    "    \n",
    "    \n",
    "    # Visit the left subtree is visited first, then the root and later the right sub-tree\n",
    "    def printInorder(self, node):\n",
    "        if(node is not None):\n",
    "            # Visit the left sub-tree (Keep going on all lefts)\n",
    "            self.printInorder(node.left)\n",
    "            print('Node: %d, left:<%s>, right:<%s>' % (node.value, str(node.left),str(node.right)))\n",
    "            # Later the right sub-tree (Keep going on all rights)\n",
    "            self.printInorder(node.right)\n",
    "    \n",
    "    def print_bfs(self, node):\n",
    "        # This will be a stack\n",
    "        visited = []\n",
    "        # Start from root\n",
    "        # If node is valid\n",
    "        if node:\n",
    "            visited.append(node)\n",
    "        current = node\n",
    "        \n",
    "        # Visit all children from current node\n",
    "        while current:\n",
    "            # Go to left element and add to visited list\n",
    "            if current.left:\n",
    "                visited.append(current.left)\n",
    "            # Go to left element and add to visited list\n",
    "            if (current.right):\n",
    "                visited.append(current.right)\n",
    "            \n",
    "            # Print current Node\n",
    "            print('Node: %d, left:<%s>, right:<%s>' % (current.value, str(current.left),str(current.right)))\n",
    "            \n",
    "            # Take last element from visited\n",
    "            visited.pop(0)\n",
    "            # Stop if there is nothing more to visit\n",
    "            if len(visited) == 0:\n",
    "                break\n",
    "            \n",
    "            # Point to the first available element\n",
    "            current = visited[0]\n",
    "    \n",
    "    \n",
    "    # A utility function to search a given key in BST \n",
    "    def search(self, root, value): \n",
    "        print('Vising node:%s' % str(root))\n",
    "        # Base Cases: root is null or key is present at root \n",
    "        if root is None or root.value == value: \n",
    "            return root\n",
    "        else:\n",
    "            # Key is greater than root's key \n",
    "            if root.value < value: \n",
    "                return self.search(root.right,value) \n",
    "\n",
    "            # Key is smaller than root's key \n",
    "            return self.search(root.left,value) \n",
    "        \n",
    "\n",
    "            "
   ]
  },
  {
   "cell_type": "markdown",
   "metadata": {},
   "source": [
    "### Insert into tree"
   ]
  },
  {
   "cell_type": "code",
   "execution_count": 2,
   "metadata": {},
   "outputs": [
    {
     "name": "stdout",
     "output_type": "stream",
     "text": [
      "Node: 1, left:<None>, right:<None>\n",
      "Node: 3, left:<1>, right:<6>\n",
      "Node: 4, left:<None>, right:<None>\n",
      "Node: 6, left:<4>, right:<7>\n",
      "Node: 7, left:<None>, right:<None>\n",
      "Node: 8, left:<3>, right:<10>\n",
      "Node: 10, left:<None>, right:<14>\n",
      "Node: 13, left:<None>, right:<None>\n",
      "Node: 14, left:<13>, right:<None>\n"
     ]
    }
   ],
   "source": [
    "bt = BinaryTree(8)\n",
    "bt.insert(3, bt.root)\n",
    "bt.insert(10, bt.root)\n",
    "bt.insert(1, bt.root)\n",
    "bt.insert(6, bt.root)\n",
    "bt.insert(14, bt.root)\n",
    "bt.insert(4, bt.root)\n",
    "bt.insert(7, bt.root)\n",
    "bt.insert(13, bt.root)\n",
    "\n",
    "# Print Tree\n",
    "bt.printInorder(bt.root)"
   ]
  },
  {
   "cell_type": "code",
   "execution_count": 3,
   "metadata": {},
   "outputs": [
    {
     "name": "stdout",
     "output_type": "stream",
     "text": [
      "Node: 8, left:<3>, right:<10>\n",
      "Node: 3, left:<1>, right:<6>\n",
      "Node: 10, left:<None>, right:<14>\n",
      "Node: 1, left:<None>, right:<None>\n",
      "Node: 6, left:<4>, right:<7>\n",
      "Node: 14, left:<13>, right:<None>\n",
      "Node: 4, left:<None>, right:<None>\n",
      "Node: 7, left:<None>, right:<None>\n",
      "Node: 13, left:<None>, right:<None>\n"
     ]
    }
   ],
   "source": [
    "bt.print_bfs(bt.root)"
   ]
  },
  {
   "cell_type": "markdown",
   "metadata": {},
   "source": [
    "### Search on Binary Tree\n",
    "Due to the way that the tree is organizied we can search for an element starting from the root, if the value us smaller than root we can go to the next child on the left and keep going if this element is smaller than the child,  the same rule apply if the node is bigger.\n",
    "Serches on balanced binary trees are O(n.logn)"
   ]
  },
  {
   "cell_type": "code",
   "execution_count": 4,
   "metadata": {},
   "outputs": [
    {
     "name": "stdout",
     "output_type": "stream",
     "text": [
      "Vising node:8\n",
      "Vising node:3\n",
      "Vising node:6\n",
      "6\n"
     ]
    }
   ],
   "source": [
    "print(bt.search(bt.root, 6))"
   ]
  },
  {
   "cell_type": "markdown",
   "metadata": {},
   "source": [
    "### Unbalanced Tree\n",
    "The problem with the previous heuristics of adding nodes to the left or right depending of their value will not work properly if we add sequential numbers [1,2,3,4,5,6] the issue is that each node will be added to the right, and will become just a linked list (operations will take O(n)).\n",
    "\n",
    "![alt text](docs/imgs/balanced-non-balanced.jpg \"Balanced vs Unbalanced\")\n",
    "\n",
    "To avoid this situation we have the red-black trees"
   ]
  },
  {
   "cell_type": "code",
   "execution_count": 5,
   "metadata": {},
   "outputs": [
    {
     "name": "stdout",
     "output_type": "stream",
     "text": [
      "Node: 1, left:<None>, right:<2>\n",
      "Node: 2, left:<None>, right:<3>\n",
      "Node: 3, left:<None>, right:<4>\n",
      "Node: 4, left:<None>, right:<5>\n",
      "Node: 5, left:<None>, right:<6>\n",
      "Node: 6, left:<None>, right:<None>\n",
      "Vising node:1\n",
      "Vising node:2\n",
      "Vising node:3\n",
      "Vising node:4\n",
      "Vising node:5\n",
      "Vising node:6\n",
      "6\n"
     ]
    }
   ],
   "source": [
    "bt = BinaryTree(1)\n",
    "bt.insert(2, bt.root)\n",
    "bt.insert(3, bt.root)\n",
    "bt.insert(4, bt.root)\n",
    "bt.insert(5, bt.root)\n",
    "bt.insert(6, bt.root)\n",
    "bt.printInorder(bt.root)\n",
    "\n",
    "# Observe the worst case scenario that our searh takes O(N) steps\n",
    "print(bt.search(bt.root, 6))"
   ]
  }
 ],
 "metadata": {
  "kernelspec": {
   "display_name": "Python 3",
   "language": "python",
   "name": "python3"
  },
  "language_info": {
   "codemirror_mode": {
    "name": "ipython",
    "version": 3
   },
   "file_extension": ".py",
   "mimetype": "text/x-python",
   "name": "python",
   "nbconvert_exporter": "python",
   "pygments_lexer": "ipython3",
   "version": "3.6.8"
  }
 },
 "nbformat": 4,
 "nbformat_minor": 2
}
