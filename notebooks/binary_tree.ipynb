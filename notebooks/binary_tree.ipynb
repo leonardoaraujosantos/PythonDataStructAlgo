{
 "cells": [
  {
   "cell_type": "markdown",
   "metadata": {},
   "source": [
    "# Binary Tree\n",
    "In computer science, binary search trees (BST), sometimes called ordered or sorted binary trees, are a particular type of container: a data structure that stores \"items\" (such as numbers, names etc.) in memory. They allow fast lookup, addition and removal of items, and can be used to implement either dynamic sets of items, or lookup tables that allow finding an item by its key (e.g., finding the phone number of a person by name).\n",
    "\n",
    "Binary search trees keep their keys in sorted order, so that lookup and other operations can use the principle of binary search: when looking for a key in a tree (or a place to insert a new key), they traverse the tree from root to leaf, making comparisons to keys stored in the nodes of the tree and deciding, on the basis of the comparison, to continue searching in the left or right subtrees.\n",
    "\n",
    "<img src=\"docs/imgs/binary_search.png\">\n",
    "\n",
    "On best case scenario Binary Trees had their operations: (Insert,Delete,Search) in O(log(n)), which is better than linked list O(n) but still worse than hash tables.\n",
    "\n",
    "#### References\n",
    "* https://en.wikipedia.org/wiki/Binary_search_tree\n",
    "* https://www.geeksforgeeks.org/insertion-in-a-binary-tree-in-level-order/\n",
    "* https://www.youtube.com/watch?v=qH6yxkw0u78"
   ]
  },
  {
   "cell_type": "code",
   "execution_count": 61,
   "metadata": {},
   "outputs": [],
   "source": [
    "class Node:\n",
    "    def __init__(self, value):\n",
    "        self.value = value\n",
    "        self.left = None\n",
    "        self.right = None\n",
    "    \n",
    "    def is_full(self):\n",
    "        return (not self.right_available()) and (not self.left_available())\n",
    "    \n",
    "    def right_available(self):\n",
    "        return self.right is None\n",
    "    \n",
    "    def left_available(self):\n",
    "        return self.left is None\n",
    "    \n",
    "    def __str__(self):\n",
    "        return str(self.value)\n",
    "\n",
    "class BinaryTree:\n",
    "    def __init__(self, value):\n",
    "        self.root = Node(value)\n",
    "        self.num_nodes = 0\n",
    "        self.last_node = self.root\n",
    "        self.node_lst = [self.root]\n",
    "    \n",
    "    def add_node(self, value):\n",
    "        node = Node(value)\n",
    "        self.num_nodes += 1\n",
    "    \n",
    "        if self.last_node.value > node.value:\n",
    "            print('Add %s at left of %s' % (value,self.last_node.value))\n",
    "            self.root.left = node\n",
    "        else:\n",
    "            print('Add %s at right of %s' % (value,self.last_node.value))\n",
    "            self.root.right = node\n",
    "        \n",
    "        self.node_lst.append(node)\n",
    "    \n",
    "    def print(self):\n",
    "        for node in self.node_lst:\n",
    "            print('value: %s left: %s right: %s' % (node.value, node.left, node.right))\n",
    "            "
   ]
  },
  {
   "cell_type": "code",
   "execution_count": 65,
   "metadata": {},
   "outputs": [
    {
     "name": "stdout",
     "output_type": "stream",
     "text": [
      "Add 3 at left of 8\n",
      "Add 10 at right of 8\n",
      "Node: 8 is full\n",
      "Add 1 at left of 10\n",
      "Add 6 at left of 10\n",
      "Add 14 at right of 10\n",
      "Add 4 at left of 10\n",
      "Add 7 at left of 10\n",
      "Add 13 at right of 10\n",
      "value: 8 left: 7 right: 13\n",
      "value: 3 left: None right: None\n",
      "value: 10 left: None right: None\n",
      "value: 1 left: None right: None\n",
      "value: 6 left: None right: None\n",
      "value: 14 left: None right: None\n",
      "value: 4 left: None right: None\n",
      "value: 7 left: None right: None\n",
      "value: 13 left: None right: None\n"
     ]
    }
   ],
   "source": [
    "bt = BinaryTree(8) \n",
    "bt.add_node(3)\n",
    "bt.add_node(10)\n",
    "bt.add_node(1)\n",
    "bt.add_node(6)\n",
    "bt.add_node(14)\n",
    "bt.add_node(4)\n",
    "bt.add_node(7)\n",
    "bt.add_node(13)\n",
    "bt.print()"
   ]
  },
  {
   "cell_type": "code",
   "execution_count": 67,
   "metadata": {},
   "outputs": [],
   "source": [
    "list.sort([1,3,4])"
   ]
  },
  {
   "cell_type": "code",
   "execution_count": 71,
   "metadata": {},
   "outputs": [],
   "source": [
    "a = [1,4,3]"
   ]
  },
  {
   "cell_type": "code",
   "execution_count": 69,
   "metadata": {},
   "outputs": [],
   "source": [
    "a.sort()"
   ]
  },
  {
   "cell_type": "code",
   "execution_count": 70,
   "metadata": {},
   "outputs": [
    {
     "data": {
      "text/plain": [
       "[1, 3, 4]"
      ]
     },
     "execution_count": 70,
     "metadata": {},
     "output_type": "execute_result"
    }
   ],
   "source": [
    "a"
   ]
  },
  {
   "cell_type": "code",
   "execution_count": 76,
   "metadata": {},
   "outputs": [
    {
     "name": "stdout",
     "output_type": "stream",
     "text": [
      "0\n",
      "1\n"
     ]
    }
   ],
   "source": [
    "a = [3,3,0]\n",
    "idx = [print(idx) for idx,val in enumerate(a) if val==3]"
   ]
  },
  {
   "cell_type": "code",
   "execution_count": null,
   "metadata": {},
   "outputs": [],
   "source": []
  }
 ],
 "metadata": {
  "kernelspec": {
   "display_name": "Python 3",
   "language": "python",
   "name": "python3"
  },
  "language_info": {
   "codemirror_mode": {
    "name": "ipython",
    "version": 3
   },
   "file_extension": ".py",
   "mimetype": "text/x-python",
   "name": "python",
   "nbconvert_exporter": "python",
   "pygments_lexer": "ipython3",
   "version": "3.6.8"
  }
 },
 "nbformat": 4,
 "nbformat_minor": 2
}
