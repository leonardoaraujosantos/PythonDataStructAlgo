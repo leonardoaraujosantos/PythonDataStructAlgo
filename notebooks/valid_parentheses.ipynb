{
 "cells": [
  {
   "cell_type": "markdown",
   "metadata": {},
   "source": [
    "# Valid Parentheses\n",
    "Simple problem using stack to check if we have valid parenthesis.\n",
    "\n",
    "![alt text](docs/imgs/valid_parentheses.png \"Title\")\n",
    "\n",
    "![alt text](docs/imgs/valid_parentheses2.png \"Title\")\n",
    "\n",
    "Given a string containing just the characters '(', ')', '{', '}', '[' and ']', determine if the input string is valid.\n",
    "\n",
    "An input string is valid if:\n",
    "\n",
    "Open brackets must be closed by the same type of brackets.\n",
    "Open brackets must be closed in the correct order.\n",
    "Note that an empty string is also considered valid.\n",
    "\n",
    "#### Example 1:\n",
    "```bash\n",
    "Input: \"()\"\n",
    "Output: true\n",
    "```\n",
    "#### Example 2:\n",
    "```bash\n",
    "Input: \"()[]{}\"\n",
    "Output: true\n",
    "````\n",
    "#### Example 3:\n",
    "```bash\n",
    "Input: \"(]\"\n",
    "Output: false\n",
    "```\n",
    "#### Example 4:\n",
    "```bash\n",
    "Input: \"([)]\"\n",
    "Output: false\n",
    "```\n",
    "#### References\n",
    "* https://leetcode.com/problems/valid-parentheses/\n",
    "* https://www.youtube.com/watch?v=CCyEXcNamC4"
   ]
  },
  {
   "cell_type": "code",
   "execution_count": 1,
   "metadata": {},
   "outputs": [],
   "source": [
    "def isValid(s):\n",
    "        # Stack (can be list in python if you use append/pop)\n",
    "        stack_chars = []\n",
    "        \n",
    "        # Corner cases if string size is odd return False\n",
    "        if len(s) % 2 != 0:\n",
    "            return False\n",
    "        \n",
    "        # Create a hashtable(dict) for fast search\n",
    "        # keys: (,{,[\n",
    "        # values: ),},]\n",
    "        dict_pars = {'(':')', '{':'}', '[':']'}        \n",
    "        \n",
    "        # Iterate on Input String\n",
    "        for char in s:\n",
    "            if char in dict_pars.keys():\n",
    "                #print('Append:', char)\n",
    "                stack_chars.append(char)\n",
    "            if char in dict_pars.values():\n",
    "                if stack_chars:\n",
    "                    last = stack_chars[-1]\n",
    "                    if last == '(' and char == ')':\n",
    "                        #print('Remove:', char)\n",
    "                        stack_chars.pop()\n",
    "                    if last == '{' and char == '}':\n",
    "                        #print('Remove:', char)\n",
    "                        stack_chars.pop()\n",
    "                    if last == '[' and char == ']':\n",
    "                        #print('Remove:', char)\n",
    "                        stack_chars.pop()\n",
    "        \n",
    "        #print('stack_chars:',  stack_chars, 'len:', len(stack_chars))\n",
    "        # If stack is empty we have a valid string\n",
    "        return len(stack_chars) == 0"
   ]
  },
  {
   "cell_type": "code",
   "execution_count": 2,
   "metadata": {},
   "outputs": [
    {
     "data": {
      "text/plain": [
       "True"
      ]
     },
     "execution_count": 2,
     "metadata": {},
     "output_type": "execute_result"
    }
   ],
   "source": [
    "isValid(\"()[]{}\")"
   ]
  },
  {
   "cell_type": "code",
   "execution_count": 3,
   "metadata": {},
   "outputs": [
    {
     "data": {
      "text/plain": [
       "False"
      ]
     },
     "execution_count": 3,
     "metadata": {},
     "output_type": "execute_result"
    }
   ],
   "source": [
    "isValid(\"([)]\")"
   ]
  }
 ],
 "metadata": {
  "kernelspec": {
   "display_name": "Python 3",
   "language": "python",
   "name": "python3"
  },
  "language_info": {
   "codemirror_mode": {
    "name": "ipython",
    "version": 3
   },
   "file_extension": ".py",
   "mimetype": "text/x-python",
   "name": "python",
   "nbconvert_exporter": "python",
   "pygments_lexer": "ipython3",
   "version": "3.7.3"
  }
 },
 "nbformat": 4,
 "nbformat_minor": 4
}
