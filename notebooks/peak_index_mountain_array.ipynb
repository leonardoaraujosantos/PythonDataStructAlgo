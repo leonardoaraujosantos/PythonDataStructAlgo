{
 "cells": [
  {
   "cell_type": "markdown",
   "metadata": {},
   "source": [
    "# Peak Index in a Montain Array\n",
    "Let's call an array A a mountain if the following properties hold:\n",
    "\n",
    "A.length >= 3\n",
    "There exists some 0 < i < A.length - 1 such that A[0] < A[1] < ... A[i-1] < A[i] > A[i+1] > ... > A[A.length - 1]\n",
    "Given an array that is definitely a mountain, return any i such that A[0] < A[1] < ... A[i-1] < A[i] > A[i+1] > ... > A[A.length - 1].\n",
    "\n",
    "#### Example 1:\n",
    "```bash\n",
    "Input: [0,1,0]\n",
    "Output: 1\n",
    "```\n",
    "\n",
    "#### Example 2:\n",
    "```bash\n",
    "Input: [0,2,1,0]\n",
    "Output: 1\n",
    "```\n",
    "##### Note:\n",
    "3 <= A.length <= 10000\n",
    "0 <= A[i] <= 10^6\n",
    "A is a mountain, as defined above.\n",
    "\n",
    "#### References\n",
    "* https://leetcode.com/problems/peak-index-in-a-mountain-array/"
   ]
  },
  {
   "cell_type": "markdown",
   "metadata": {},
   "source": [
    "#### Time O(N) Solution"
   ]
  },
  {
   "cell_type": "code",
   "execution_count": 1,
   "metadata": {},
   "outputs": [],
   "source": [
    "def peakIndexInMountainArray(A):\n",
    "    for idx in range(len(A)):\n",
    "        if A[idx] > A[idx+1]:\n",
    "            return idx"
   ]
  },
  {
   "cell_type": "code",
   "execution_count": 2,
   "metadata": {},
   "outputs": [
    {
     "data": {
      "text/plain": [
       "1"
      ]
     },
     "execution_count": 2,
     "metadata": {},
     "output_type": "execute_result"
    }
   ],
   "source": [
    "peakIndexInMountainArray([0,2,1,0])"
   ]
  },
  {
   "cell_type": "markdown",
   "metadata": {},
   "source": [
    "#### Binary Search Approach\n",
    "If we consider that our list is sorted, (excluding the peak) we can use binary search O(log(N)) to solve the problem without having to search the whole tree"
   ]
  },
  {
   "cell_type": "code",
   "execution_count": 3,
   "metadata": {},
   "outputs": [],
   "source": [
    "def peakIndexInMountainArray(A):\n",
    "    start_idx, end_idx = 0, len(A)-1\n",
    "    # While start index smaller than last\n",
    "    while (start_idx < end_idx):\n",
    "        # Start from midpoint\n",
    "        mid_idx = (end_idx + start_idx) // 2\n",
    "        \n",
    "        if A[mid_idx] < A[mid_idx+1]:\n",
    "            start_idx = mid_idx + 1\n",
    "        else:\n",
    "            end_idx = mid_idx\n",
    "    return start_idx"
   ]
  },
  {
   "cell_type": "code",
   "execution_count": 4,
   "metadata": {},
   "outputs": [
    {
     "data": {
      "text/plain": [
       "1"
      ]
     },
     "execution_count": 4,
     "metadata": {},
     "output_type": "execute_result"
    }
   ],
   "source": [
    "peakIndexInMountainArray([0,2,1,0])"
   ]
  }
 ],
 "metadata": {
  "kernelspec": {
   "display_name": "Python 3",
   "language": "python",
   "name": "python3"
  },
  "language_info": {
   "codemirror_mode": {
    "name": "ipython",
    "version": 3
   },
   "file_extension": ".py",
   "mimetype": "text/x-python",
   "name": "python",
   "nbconvert_exporter": "python",
   "pygments_lexer": "ipython3",
   "version": "3.6.8"
  }
 },
 "nbformat": 4,
 "nbformat_minor": 2
}
