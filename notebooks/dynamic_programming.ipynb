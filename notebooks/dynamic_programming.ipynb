{
 "cells": [
  {
   "cell_type": "markdown",
   "metadata": {},
   "source": [
    "# Dynamic Programming\n",
    "It's a optimization technique that avoid calculating the same thing twice using a technique called \"memoization\", making it more efficient. DP is useful to make NP problems become polynomial time.\n",
    "\n",
    "#### References\n",
    "* [Introduction to Dynamic Programming](https://www.hackerearth.com/practice/algorithms/dynamic-programming/introduction-to-dynamic-programming-1/tutorial/)\n",
    "* [Demystifying Dynamic Programming](https://medium.com/free-code-camp/demystifying-dynamic-programming-3efafb8d4296)\n",
    "* [Dynamic Programming Video](https://www.youtube.com/watch?v=vYquumk4nWw)\n",
    "* [Top-Down vs Bottom-up Approach](https://www.youtube.com/watch?v=n5kvaPME8SQ)\n",
    "* [The Recursive Staircase](https://www.youtube.com/watch?v=NFJ3m9a1oJQ)\n",
    "* [Subset Sum Problem](https://www.youtube.com/watch?v=nqlNzOcnCfs)"
   ]
  },
  {
   "cell_type": "markdown",
   "metadata": {},
   "source": [
    "### Naive Recursion"
   ]
  },
  {
   "cell_type": "code",
   "execution_count": 1,
   "metadata": {},
   "outputs": [],
   "source": [
    "def fib_r(n):\n",
    "    if n <= 1:\n",
    "        return n\n",
    "    return fib_r(n-1) + fib_r(n-2)"
   ]
  },
  {
   "cell_type": "code",
   "execution_count": 2,
   "metadata": {},
   "outputs": [
    {
     "name": "stdout",
     "output_type": "stream",
     "text": [
      "Fibonnaci Sequence: [0, 1, 1, 2, 3, 5, 8, 13, 21, 34, 55, 89, 144, 233, 377]\n"
     ]
    }
   ],
   "source": [
    "fib_sequence_r = [fib_r(n) for n in range(15)]\n",
    "print('Fibonnaci Sequence:', fib_sequence_r)"
   ]
  },
  {
   "cell_type": "markdown",
   "metadata": {},
   "source": [
    "### Dynamic Programming"
   ]
  },
  {
   "cell_type": "code",
   "execution_count": 3,
   "metadata": {},
   "outputs": [],
   "source": [
    "def fib_dp(n, memo = {}):\n",
    "    if n <= 1:\n",
    "        return n\n",
    "    # Avoid repeat calculation (memoization)\n",
    "    if n in memo:\n",
    "        return memo[n]\n",
    "    else:\n",
    "        # Add calculation in memory if never calculated before\n",
    "        memo[n] = fib_dp(n-1) + fib_dp(n-2)\n",
    "        return memo[n]"
   ]
  },
  {
   "cell_type": "code",
   "execution_count": 4,
   "metadata": {},
   "outputs": [
    {
     "name": "stdout",
     "output_type": "stream",
     "text": [
      "Fibonnaci Sequence: [0, 1, 1, 2, 3, 5, 8, 13, 21, 34, 55, 89, 144, 233, 377]\n"
     ]
    }
   ],
   "source": [
    "fib_sequence_dp = [fib_dp(n) for n in range(15)]\n",
    "print('Fibonnaci Sequence:', fib_sequence_dp)"
   ]
  },
  {
   "cell_type": "markdown",
   "metadata": {},
   "source": [
    "### Comparing Time Complexity"
   ]
  },
  {
   "cell_type": "code",
   "execution_count": 5,
   "metadata": {},
   "outputs": [
    {
     "name": "stdout",
     "output_type": "stream",
     "text": [
      "Exponential: time = -11 * 0.49^n (sec)\n"
     ]
    }
   ],
   "source": [
    "import big_o\n",
    "print(big_o.big_o(fib_r, big_o.datagen.n_, n_repeats=20, min_n=1, max_n=25)[0])"
   ]
  },
  {
   "cell_type": "code",
   "execution_count": 6,
   "metadata": {},
   "outputs": [
    {
     "name": "stdout",
     "output_type": "stream",
     "text": [
      "Logarithmic: time = 0.00013 + 0.00058*log(n) (sec)\n"
     ]
    }
   ],
   "source": [
    "print(big_o.big_o(fib_dp, big_o.datagen.n_, n_repeats=1000, min_n=1, max_n=20000)[0])"
   ]
  },
  {
   "cell_type": "markdown",
   "metadata": {},
   "source": [
    "### Bottom-Up Approach\n",
    "As discussed before recursion is actuallt not very scalable for very big numbers, to solve this issue we solve the same problem without recursion."
   ]
  },
  {
   "cell_type": "code",
   "execution_count": 7,
   "metadata": {},
   "outputs": [],
   "source": [
    "def fib_bottom_up(n):\n",
    "    if n <= 1:\n",
    "        return n\n",
    "    # Allocate list with n+1 elements\n",
    "    memo = [0] * (n+1)\n",
    "    memo[0] = 0\n",
    "    memo[1] = 1\n",
    "    memo[2] = 1\n",
    "    for x in range(3,n+1):\n",
    "        memo[x] = memo[x-1] + memo[x-2]\n",
    "    return memo[n]"
   ]
  },
  {
   "cell_type": "code",
   "execution_count": 8,
   "metadata": {},
   "outputs": [
    {
     "name": "stdout",
     "output_type": "stream",
     "text": [
      "Fibonnaci Sequence: [0, 1, 1, 2, 3, 5, 8, 13, 21, 34, 55, 89, 144, 233, 377]\n"
     ]
    }
   ],
   "source": [
    "fib_sequence_bottom_up = [fib_bottom_up(n) for n in range(15)]\n",
    "print('Fibonnaci Sequence:', fib_sequence_bottom_up)"
   ]
  },
  {
   "cell_type": "code",
   "execution_count": 9,
   "metadata": {},
   "outputs": [
    {
     "name": "stdout",
     "output_type": "stream",
     "text": [
      "Linear: time = 0.0012 + 0.00012*n (sec)\n"
     ]
    }
   ],
   "source": [
    "print(big_o.big_o(fib_bottom_up, big_o.datagen.n_, n_repeats=1000, min_n=1, max_n=200)[0])"
   ]
  },
  {
   "cell_type": "markdown",
   "metadata": {},
   "source": [
    "### Subset Sum Problem\n",
    "Given the list of non-negative numbers [2,4,6,10] find the number of subsets that add up to m=16"
   ]
  },
  {
   "cell_type": "markdown",
   "metadata": {},
   "source": [
    "#### Naive Approach\n",
    "The naive approach will just get all possible subsets (itertools.combinations) and check if any combination sum to m"
   ]
  },
  {
   "cell_type": "code",
   "execution_count": 16,
   "metadata": {},
   "outputs": [],
   "source": [
    "import itertools\n",
    "def subset_sum_naive(input_set, m):\n",
    "    result = 0\n",
    "\n",
    "    # Get all combinations O(n!)\n",
    "    possible_combinations = []\n",
    "    for r in range(len(input_set)+1):\n",
    "        possible_combinations += itertools.combinations(input_set, r)\n",
    "    \n",
    "    # Check possible combinations for sum\n",
    "    for combination in possible_combinations:\n",
    "        sum_comb = sum(combination)\n",
    "        if sum_comb == m:\n",
    "            result += 1\n",
    "    \n",
    "    return result"
   ]
  },
  {
   "cell_type": "code",
   "execution_count": 17,
   "metadata": {},
   "outputs": [
    {
     "data": {
      "text/plain": [
       "2"
      ]
     },
     "execution_count": 17,
     "metadata": {},
     "output_type": "execute_result"
    }
   ],
   "source": [
    "pars = ([2,4,6,10], 16)\n",
    "subset_sum_naive(*pars)"
   ]
  },
  {
   "cell_type": "code",
   "execution_count": 18,
   "metadata": {},
   "outputs": [
    {
     "name": "stdout",
     "output_type": "stream",
     "text": [
      "([1, 7, 0, 7], 8)\n"
     ]
    },
    {
     "data": {
      "text/plain": [
       "88"
      ]
     },
     "execution_count": 18,
     "metadata": {},
     "output_type": "execute_result"
    }
   ],
   "source": [
    "positive_int_generator = lambda n: (big_o.datagen.integers(n, 0, 10), 8)\n",
    "#positive_int_generator = lambda n: big_o.datagen.integers(n, 0, 10)\n",
    "print(positive_int_generator(4))\n",
    "subset_sum_naive(*positive_int_generator(22))"
   ]
  },
  {
   "cell_type": "code",
   "execution_count": null,
   "metadata": {},
   "outputs": [],
   "source": []
  }
 ],
 "metadata": {
  "kernelspec": {
   "display_name": "Python 3",
   "language": "python",
   "name": "python3"
  },
  "language_info": {
   "codemirror_mode": {
    "name": "ipython",
    "version": 3
   },
   "file_extension": ".py",
   "mimetype": "text/x-python",
   "name": "python",
   "nbconvert_exporter": "python",
   "pygments_lexer": "ipython3",
   "version": "3.6.8"
  }
 },
 "nbformat": 4,
 "nbformat_minor": 2
}
