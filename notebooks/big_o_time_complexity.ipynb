{
 "cells": [
  {
   "cell_type": "markdown",
   "metadata": {},
   "source": [
    "### Check Time Complexity (BigO)\n",
    "Check the time complexity given some Python code\n",
    "* https://github.com/pberkes/big_O"
   ]
  },
  {
   "cell_type": "markdown",
   "metadata": {},
   "source": [
    "#### Install from Github and Import"
   ]
  },
  {
   "cell_type": "code",
   "execution_count": 1,
   "metadata": {},
   "outputs": [
    {
     "name": "stdout",
     "output_type": "stream",
     "text": [
      "Looking in indexes: https://pypi.python.org/simple, https://pypi.apple.com/simple\n",
      "Collecting git+https://github.com/pberkes/big_O.git\n",
      "  Cloning https://github.com/pberkes/big_O.git to /private/var/folders/jm/_7sfbzrd2lvcs9yckwy2rzw80000gn/T/pip-req-build-auxh25a9\n",
      "Requirement already satisfied (use --upgrade to upgrade): big-O==0.9 from git+https://github.com/pberkes/big_O.git in /Users/leonardo_a/anaconda3/lib/python3.6/site-packages\n",
      "Requirement already satisfied: numpy in /Users/leonardo_a/anaconda3/lib/python3.6/site-packages (from big-O==0.9) (1.17.0)\n",
      "Building wheels for collected packages: big-O\n",
      "  Running setup.py bdist_wheel for big-O ... \u001b[?25ldone\n",
      "\u001b[?25h  Stored in directory: /private/var/folders/jm/_7sfbzrd2lvcs9yckwy2rzw80000gn/T/pip-ephem-wheel-cache-dmqaxmt6/wheels/ef/47/a9/34159c9cb80f76b2ae21d2a76d319c76bb62ba5380946cbe95\n",
      "Successfully built big-O\n"
     ]
    }
   ],
   "source": [
    "# Install library from github\n",
    "!pip install git+https://github.com/pberkes/big_O.git\n",
    "import big_o"
   ]
  },
  {
   "cell_type": "markdown",
   "metadata": {},
   "source": [
    "#### Fibonnaci Naive vs Dynamic Programming"
   ]
  },
  {
   "cell_type": "code",
   "execution_count": 2,
   "metadata": {},
   "outputs": [],
   "source": [
    "# Recurrent Naive (In theory exponential time)\n",
    "def fib_naive(n):\n",
    "    if n < 0:\n",
    "        return -1\n",
    "    if n < 2:\n",
    "        return n\n",
    "    return fib_naive(n-1) + fib_naive(n-2)\n",
    "\n",
    "\n",
    "# Dynamic Programming (In theory linear time)\n",
    "def fib_dp(n):\n",
    "    if n < 0:\n",
    "        return -1\n",
    "    if n < 2:\n",
    "        return n\n",
    "    a = 0\n",
    "    b = 1\n",
    "    for i in range(2, n+1):\n",
    "        a, b = b, a+b\n",
    "    return b"
   ]
  },
  {
   "cell_type": "code",
   "execution_count": 3,
   "metadata": {},
   "outputs": [
    {
     "name": "stdout",
     "output_type": "stream",
     "text": [
      "Exponential: time = -11 * 0.49^n (sec)\n"
     ]
    }
   ],
   "source": [
    "print(big_o.big_o(fib_naive, big_o.datagen.n_, n_repeats=20, min_n=1, max_n=25)[0])"
   ]
  },
  {
   "cell_type": "code",
   "execution_count": 4,
   "metadata": {},
   "outputs": [
    {
     "name": "stdout",
     "output_type": "stream",
     "text": [
      "Linear: time = -1.7E-05 + 1.6E-06*n (sec)\n"
     ]
    }
   ],
   "source": [
    "print(big_o.big_o(fib_dp, big_o.datagen.n_, n_repeats=20, min_n=1, max_n=1000)[0])"
   ]
  }
 ],
 "metadata": {
  "kernelspec": {
   "display_name": "Python 3",
   "language": "python",
   "name": "python3"
  },
  "language_info": {
   "codemirror_mode": {
    "name": "ipython",
    "version": 3
   },
   "file_extension": ".py",
   "mimetype": "text/x-python",
   "name": "python",
   "nbconvert_exporter": "python",
   "pygments_lexer": "ipython3",
   "version": "3.6.8"
  }
 },
 "nbformat": 4,
 "nbformat_minor": 2
}
