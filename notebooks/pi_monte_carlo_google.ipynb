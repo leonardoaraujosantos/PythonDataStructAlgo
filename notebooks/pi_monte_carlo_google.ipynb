{
 "cells": [
  {
   "cell_type": "markdown",
   "metadata": {},
   "source": [
    "# Estimete Value of $\\pi$ using monte carlo\n",
    "\n",
    "The idea is to simulate random (x, y) points in a 2-D plane with domain as a square of side 1 unit. Imagine a circle inside the same domain with same diameter and inscribed into the square. We then calculate the ratio of number points that lied inside the circle and total number of generated points.\n",
    "\n",
    "\n",
    "#### References\n",
    "* https://www.youtube.com/watch?v=VJTFfIqO4TU&feature=youtu.be\n",
    "* https://www.youtube.com/watch?v=AyBNnkYrSWY\n",
    "* https://www.youtube.com/watch?v=ELetCV_wX_c\n",
    "* https://www.youtube.com/watch?v=VJTFfIqO4TU"
   ]
  },
  {
   "cell_type": "code",
   "execution_count": 1,
   "metadata": {},
   "outputs": [],
   "source": [
    "import random as r\n",
    "import math as m\n",
    "\n",
    "# Number of darts that land inside.\n",
    "inside = 0\n",
    "# Total number of darts to throw.\n",
    "total = 10000000"
   ]
  },
  {
   "cell_type": "code",
   "execution_count": 2,
   "metadata": {},
   "outputs": [
    {
     "name": "stdout",
     "output_type": "stream",
     "text": [
      "3.1416948\n"
     ]
    }
   ],
   "source": [
    "# Iterate for the number of darts.\n",
    "for i in range(0, total):\n",
    "    # Generate random x, y in [0, 1].\n",
    "    x2 = r.random()\n",
    "    y2 = r.random()\n",
    "    # Increment if inside unit circle.\n",
    "    # If distance smaller than 1 we're inside the circle\n",
    "    if m.sqrt(x2**2 + y2**2) < 1.0:\n",
    "          inside += 1\n",
    "\n",
    "# inside / total = pi / 4\n",
    "pi = (float(inside) / total) * 4.0\n",
    "\n",
    "# It works!\n",
    "print(pi)"
   ]
  },
  {
   "cell_type": "code",
   "execution_count": null,
   "metadata": {},
   "outputs": [],
   "source": []
  }
 ],
 "metadata": {
  "kernelspec": {
   "display_name": "Python 3",
   "language": "python",
   "name": "python3"
  },
  "language_info": {
   "codemirror_mode": {
    "name": "ipython",
    "version": 3
   },
   "file_extension": ".py",
   "mimetype": "text/x-python",
   "name": "python",
   "nbconvert_exporter": "python",
   "pygments_lexer": "ipython3",
   "version": "3.6.8"
  }
 },
 "nbformat": 4,
 "nbformat_minor": 2
}
