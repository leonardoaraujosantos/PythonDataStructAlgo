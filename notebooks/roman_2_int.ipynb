{
 "cells": [
  {
   "cell_type": "markdown",
   "metadata": {},
   "source": [
    "# Roman to Int\n",
    "Roman numerals are represented by seven different symbols: I, V, X, L, C, D and M.\n",
    "For example, two is written as II in Roman numeral, just two one's added together. Twelve is written as, XII, which is simply X + II. The number twenty seven is written as XXVII, which is XX + V + II.\n",
    "\n",
    "```bash\n",
    "Symbol       Value\n",
    "I             1\n",
    "V             5\n",
    "X             10\n",
    "L             50\n",
    "C             100\n",
    "D             500\n",
    "M             1000\n",
    "```\n",
    "\n",
    "Roman numerals are usually written largest to smallest from left to right. However, the numeral for four is not IIII. Instead, the number four is written as IV. Because the one is before the five we subtract it making four. The same principle applies to the number nine, which is written as IX. There are six instances where subtraction is used:\n",
    "\n",
    "* I can be placed before V (5) and X (10) to make 4 and 9. \n",
    "* X can be placed before L (50) and C (100) to make 40 and 90. \n",
    "* C can be placed before D (500) and M (1000) to make 400 and 900.\n",
    "\n",
    "Given a roman numeral, convert it to an integer. Input is guaranteed to be within the range from 1 to 3999.\n",
    "\n",
    "#### Example 1:\n",
    "```bash\n",
    "Input: \"III\"\n",
    "Output: 3\n",
    "```\n",
    "#### Example 2:\n",
    "```bash\n",
    "Input: \"IV\"\n",
    "Output: 4\n",
    "```\n",
    "#### Example 3:\n",
    "```bash\n",
    "Input: \"IX\"\n",
    "Output: 9\n",
    "```\n",
    "#### Example 4:\n",
    "```bash\n",
    "Input: \"LVIII\"\n",
    "Output: 58\n",
    "```\n",
    "Explanation: L = 50, V= 5, III = 3.\n",
    "\n",
    "#### Example 5:\n",
    "```bash\n",
    "Input: \"MCMXCIV\"\n",
    "Output: 1994\n",
    "```\n",
    "Explanation: M = 1000, CM = 900, XC = 90 and IV = 4."
   ]
  },
  {
   "cell_type": "code",
   "execution_count": 7,
   "metadata": {},
   "outputs": [],
   "source": [
    "def romanToInt(s):\n",
    "    roman_2_int = {'I':1, 'V':5, 'X':10, 'L':50, 'C':100, 'D':500, 'M':1000}\n",
    "    s = s.upper()\n",
    "    value = 0\n",
    "    decrement = 0\n",
    "    prev_char = []\n",
    "    for roman_char in s:\n",
    "        if roman_char not in roman_2_int:\n",
    "            return 0\n",
    "        if prev_char in ['I', 'X', 'C']:\n",
    "            if not decrement:\n",
    "                if prev_char == 'I':\n",
    "                    # I can be placed before V and X to decrement 1\n",
    "                    if roman_char == 'V' or roman_char == 'X': \n",
    "                        decrement = 2\n",
    "                if prev_char == 'X':\n",
    "                    # I can be placed before L and C to decrement 10\n",
    "                    if roman_char == 'L' or roman_char == 'C': \n",
    "                        decrement = 20\n",
    "                if prev_char == 'C':\n",
    "                    # I can be placed before D and M to decrement 100\n",
    "                    if roman_char == 'D' or roman_char == 'M': \n",
    "                        decrement = 200\n",
    "\n",
    "        #print('curr:', roman_char, 'prev:', prev_char, 'decrement:', decrement)\n",
    "        if decrement:\n",
    "            val = roman_2_int[roman_char] - decrement\n",
    "            decrement = 0\n",
    "        else:\n",
    "            val = roman_2_int[roman_char]\n",
    "        value += val\n",
    "        prev_char = roman_char\n",
    "    return value"
   ]
  },
  {
   "cell_type": "code",
   "execution_count": 13,
   "metadata": {},
   "outputs": [
    {
     "name": "stdout",
     "output_type": "stream",
     "text": [
      "3\n",
      "4\n",
      "9\n",
      "58\n",
      "1994\n"
     ]
    }
   ],
   "source": [
    "print(romanToInt('III'))\n",
    "print(romanToInt('IV'))\n",
    "print(romanToInt('IX'))\n",
    "print(romanToInt('LVIII'))\n",
    "print(romanToInt('MCMXCIV'))"
   ]
  }
 ],
 "metadata": {
  "kernelspec": {
   "display_name": "Python 3",
   "language": "python",
   "name": "python3"
  },
  "language_info": {
   "codemirror_mode": {
    "name": "ipython",
    "version": 3
   },
   "file_extension": ".py",
   "mimetype": "text/x-python",
   "name": "python",
   "nbconvert_exporter": "python",
   "pygments_lexer": "ipython3",
   "version": "3.6.8"
  }
 },
 "nbformat": 4,
 "nbformat_minor": 2
}
