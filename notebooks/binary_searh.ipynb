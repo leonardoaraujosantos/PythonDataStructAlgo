{
 "cells": [
  {
   "cell_type": "markdown",
   "metadata": {},
   "source": [
    "# Binary Search\n",
    "This algorithm depends of having the input list sorted\n",
    "\n",
    "![alt text](docs/imgs/binary_search_sample.png \"Title\")\n",
    "\n",
    "#### References\n",
    "* https://www.geeksforgeeks.org/python-program-for-binary-search/\n",
    "* [Binary Search](https://www.youtube.com/watch?v=P3YID7liBug&list=PLI1t_8YX-ApvMthLj56t1Rf-Buio5Y8KL&index=3)"
   ]
  },
  {
   "cell_type": "code",
   "execution_count": 1,
   "metadata": {},
   "outputs": [],
   "source": [
    "sorted_array = [1,2,3,4,5,6,7,8,9,10]"
   ]
  },
  {
   "cell_type": "code",
   "execution_count": 2,
   "metadata": {},
   "outputs": [],
   "source": [
    "def binary_search_iterative(input_array, val):\n",
    "    left,right = 0, len(input_array)-1\n",
    "    index = -1\n",
    "    while (left <= right):        \n",
    "        half = (left + right) // 2\n",
    "        half_val = input_array[half]\n",
    "        print('half:', half, 'left:', left, 'right:', right, 'half_val:', half_val)\n",
    "        # Check if we found the value at half\n",
    "        if half_val == val:\n",
    "            index = half            \n",
    "            break\n",
    "        else:\n",
    "            # If element is smaller than half, then it can only be present in left subarray \n",
    "            if val < half_val:                     \n",
    "                right = half - 1                        \n",
    "            else:\n",
    "                left = half + 1\n",
    "    \n",
    "    return index"
   ]
  },
  {
   "cell_type": "code",
   "execution_count": 3,
   "metadata": {},
   "outputs": [
    {
     "name": "stdout",
     "output_type": "stream",
     "text": [
      "half: 4 left: 0 right: 9 half_val: 5\n",
      "half: 7 left: 5 right: 9 half_val: 8\n",
      "half: 8 left: 8 right: 9 half_val: 9\n"
     ]
    },
    {
     "data": {
      "text/plain": [
       "8"
      ]
     },
     "execution_count": 3,
     "metadata": {},
     "output_type": "execute_result"
    }
   ],
   "source": [
    "binary_search_iterative(sorted_array, 9)"
   ]
  },
  {
   "cell_type": "code",
   "execution_count": 4,
   "metadata": {},
   "outputs": [],
   "source": [
    "# Observe that some variables need to become parameters for the recursion to work\n",
    "def binary_search_recursive(input_array, left, right, val):   \n",
    "    # Check base case \n",
    "    if left <= right:   \n",
    "        half = (left + right) // 2  \n",
    "        half_val = input_array[half]\n",
    "        print('half:', half, 'left:', left, 'right:', right, 'half_val:', half_val)\n",
    "        # Check if we found the value at half\n",
    "        if half_val == val: \n",
    "            return half           \n",
    "        # If element is smaller than half, then it can only be present in left subarray \n",
    "        elif input_array[half] > val: \n",
    "            return binary_search_recursive(input_array, left, half-1, val)           \n",
    "        else: \n",
    "            # Else the element can only be present in right subarray \n",
    "            return binary_search_recursive(input_array, half+1, right, val) \n",
    "  \n",
    "    else: \n",
    "        # Element is not present in the array \n",
    "        return -1"
   ]
  },
  {
   "cell_type": "code",
   "execution_count": 5,
   "metadata": {},
   "outputs": [
    {
     "name": "stdout",
     "output_type": "stream",
     "text": [
      "half: 4 left: 0 right: 9 half_val: 5\n",
      "half: 7 left: 5 right: 9 half_val: 8\n",
      "half: 8 left: 8 right: 9 half_val: 9\n"
     ]
    },
    {
     "data": {
      "text/plain": [
       "8"
      ]
     },
     "execution_count": 5,
     "metadata": {},
     "output_type": "execute_result"
    }
   ],
   "source": [
    "binary_search_recursive(sorted_array,0,len(sorted_array)-1,9)"
   ]
  }
 ],
 "metadata": {
  "kernelspec": {
   "display_name": "Python 3",
   "language": "python",
   "name": "python3"
  },
  "language_info": {
   "codemirror_mode": {
    "name": "ipython",
    "version": 3
   },
   "file_extension": ".py",
   "mimetype": "text/x-python",
   "name": "python",
   "nbconvert_exporter": "python",
   "pygments_lexer": "ipython3",
   "version": "3.7.3"
  }
 },
 "nbformat": 4,
 "nbformat_minor": 4
}
