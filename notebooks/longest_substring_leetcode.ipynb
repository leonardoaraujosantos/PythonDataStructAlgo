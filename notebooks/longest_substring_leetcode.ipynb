{
 "cells": [
  {
   "cell_type": "markdown",
   "metadata": {},
   "source": [
    "# Longest Substring Without Repeating Characters\n",
    "\n",
    "Given a string, find the length of the longest substring without repeating characters.\n",
    "\n",
    "https://leetcode.com/problems/longest-substring-without-repeating-characters/\n",
    "\n",
    "### Examples:\n",
    "##### Example 1\n",
    "Input: \"abcabcbb\"\n",
    "Output: 3 \n",
    "Explanation: The answer is \"abc\", with the length of 3. \n",
    "\n",
    "##### Example 2\n",
    "Input: \"bbbbb\"\n",
    "Output: 1\n",
    "Explanation: The answer is \"b\", with the length of 1.\n",
    "\n",
    "##### Example 3\n",
    "Input: \"pwwkew\"\n",
    "Output: 3\n",
    "Explanation: \n",
    "\n",
    "The answer is \"wke\", with the length of 3. Note that the answer must be a substring, \"pwke\" is a subsequence and not a substring."
   ]
  },
  {
   "cell_type": "code",
   "execution_count": 7,
   "metadata": {},
   "outputs": [],
   "source": [
    "def lengthOfLongestSubstring(s):\n",
    "    list_char = []\n",
    "    last_list_char = []\n",
    "    count_substrings = 0\n",
    "    for idx in range(len(s)):\n",
    "        #list_char = []\n",
    "        for char in s[idx:]:\n",
    "            if char not in list_char:\n",
    "                list_char.append(char)\n",
    "            else:\n",
    "                last_list_char.append(len(list_char))\n",
    "                # This could loop the string (attention)\n",
    "                list_char = list(set([list_char[-1]] + [char]))\n",
    "                count_substrings += 1\n",
    "\n",
    "    if last_list_char != []:\n",
    "        return max([len(list_char), max(last_list_char)])\n",
    "    else:\n",
    "        return len(list_char)\n"
   ]
  },
  {
   "cell_type": "markdown",
   "metadata": {},
   "source": [
    "#### Correct Results"
   ]
  },
  {
   "cell_type": "code",
   "execution_count": 8,
   "metadata": {},
   "outputs": [
    {
     "name": "stdout",
     "output_type": "stream",
     "text": [
      "3\n",
      "1\n",
      "3\n",
      "0\n",
      "3\n",
      "5\n"
     ]
    }
   ],
   "source": [
    "print(lengthOfLongestSubstring('abcabcbb'))\n",
    "print(lengthOfLongestSubstring('bbbbb'))\n",
    "print(lengthOfLongestSubstring('pwwkew'))\n",
    "print(lengthOfLongestSubstring(''))\n",
    "print(lengthOfLongestSubstring('dvdf'))\n",
    "print(lengthOfLongestSubstring('anviaj'))"
   ]
  },
  {
   "cell_type": "markdown",
   "metadata": {},
   "source": [
    "#### Incorrect"
   ]
  },
  {
   "cell_type": "code",
   "execution_count": 9,
   "metadata": {},
   "outputs": [
    {
     "data": {
      "text/plain": [
       "5"
      ]
     },
     "execution_count": 9,
     "metadata": {},
     "output_type": "execute_result"
    }
   ],
   "source": [
    "lengthOfLongestSubstring('jbpnbwwd')"
   ]
  },
  {
   "cell_type": "code",
   "execution_count": null,
   "metadata": {},
   "outputs": [],
   "source": []
  }
 ],
 "metadata": {
  "kernelspec": {
   "display_name": "Python 3",
   "language": "python",
   "name": "python3"
  },
  "language_info": {
   "codemirror_mode": {
    "name": "ipython",
    "version": 3
   },
   "file_extension": ".py",
   "mimetype": "text/x-python",
   "name": "python",
   "nbconvert_exporter": "python",
   "pygments_lexer": "ipython3",
   "version": "3.6.8"
  }
 },
 "nbformat": 4,
 "nbformat_minor": 2
}
