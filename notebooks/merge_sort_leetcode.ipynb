{
 "cells": [
  {
   "cell_type": "markdown",
   "metadata": {},
   "source": [
    "# Merge Sort\n",
    "The merge sort algorithm is able to sort a list of numbers in O(n.log(n))\n",
    "Sort a linked list in O(n log n) time using constant space complexity.\n",
    "\n",
    "<img src=\"docs/imgs/merge_sort.png\">\n",
    "\n",
    "#### Reference\n",
    "* https://leetcode.com/problems/sort-list/\n",
    "* http://programminglife.io/merge-sort-in-java/\n",
    "* https://medium.com/@amirziai/merge-sort-walkthrough-with-code-in-python-e4f76d90a4ea\n",
    "* https://www.geeksforgeeks.org/merge-sort/\n",
    "* https://www.youtube.com/watch?v=Nso25TkBsYI\n",
    "* https://www.youtube.com/watch?v=HXNhEYqFo0o\n",
    "* https://www.youtube.com/watch?v=Mv9NEXX1VHc\n",
    "* https://www.youtube.com/watch?v=kPRA0W1kECg"
   ]
  },
  {
   "cell_type": "code",
   "execution_count": null,
   "metadata": {},
   "outputs": [],
   "source": []
  }
 ],
 "metadata": {
  "kernelspec": {
   "display_name": "Python 3",
   "language": "python",
   "name": "python3"
  },
  "language_info": {
   "codemirror_mode": {
    "name": "ipython",
    "version": 3
   },
   "file_extension": ".py",
   "mimetype": "text/x-python",
   "name": "python",
   "nbconvert_exporter": "python",
   "pygments_lexer": "ipython3",
   "version": "3.7.3"
  }
 },
 "nbformat": 4,
 "nbformat_minor": 4
}
