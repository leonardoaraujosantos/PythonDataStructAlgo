{
 "cells": [
  {
   "cell_type": "markdown",
   "metadata": {},
   "source": [
    "# Palindrome \n",
    "Palindrome are strings that are the same if you read on both directions, for example (aba). An easy yet common interview question is to check if a string is palindrome.\n",
    "\n",
    "```python\n",
    "def is_palindrome(s):\n",
    "    s = ''.join(ch for ch in s.lower() if ch.isalnum())\n",
    "    # Check if s is equal to reversed s\n",
    "    return s == s[::-1]\n",
    "```\n",
    "\n",
    "#### References\n",
    "* https://leetcode.com/problems/valid-palindrome-ii/\n",
    "* https://leetcode.com/problems/valid-palindrome/\n",
    "* https://www.youtube.com/watch?v=y3S0iYFedCw\n",
    "* https://realpython.com/python-range/"
   ]
  },
  {
   "cell_type": "code",
   "execution_count": 1,
   "metadata": {},
   "outputs": [
    {
     "name": "stdout",
     "output_type": "stream",
     "text": [
      "Looking in indexes: https://pypi.python.org/simple, https://pypi.apple.com/simple\n",
      "Collecting git+https://github.com/pberkes/big_O.git\n",
      "  Cloning https://github.com/pberkes/big_O.git to /private/var/folders/jm/_7sfbzrd2lvcs9yckwy2rzw80000gn/T/pip-req-build-xd_cp1on\n",
      "Requirement already satisfied (use --upgrade to upgrade): big-O==0.9 from git+https://github.com/pberkes/big_O.git in /Users/leonardo_a/anaconda3/lib/python3.6/site-packages\n",
      "Requirement already satisfied: numpy in /Users/leonardo_a/anaconda3/lib/python3.6/site-packages (from big-O==0.9) (1.17.0)\n",
      "Building wheels for collected packages: big-O\n",
      "  Running setup.py bdist_wheel for big-O ... \u001b[?25ldone\n",
      "\u001b[?25h  Stored in directory: /private/var/folders/jm/_7sfbzrd2lvcs9yckwy2rzw80000gn/T/pip-ephem-wheel-cache-l1essfk0/wheels/ef/47/a9/34159c9cb80f76b2ae21d2a76d319c76bb62ba5380946cbe95\n",
      "Successfully built big-O\n"
     ]
    }
   ],
   "source": [
    "# Install library from github\n",
    "!pip install git+https://github.com/pberkes/big_O.git\n",
    "import big_o"
   ]
  },
  {
   "cell_type": "code",
   "execution_count": 2,
   "metadata": {},
   "outputs": [],
   "source": [
    "# The time complexity here is O(N/2)\n",
    "def is_palindrome(in_str):\n",
    "    result = True\n",
    "    start_idx = 0\n",
    "    end_idx = len(in_str)-1\n",
    "    for idx in range(len(in_str)):\n",
    "        if start_idx >= end_idx:\n",
    "            break\n",
    "        else:\n",
    "            if in_str[start_idx] != in_str[end_idx]:\n",
    "                result = False\n",
    "                break\n",
    "            else:\n",
    "                start_idx += 1\n",
    "                end_idx -= 1\n",
    "    return result"
   ]
  },
  {
   "cell_type": "code",
   "execution_count": 3,
   "metadata": {},
   "outputs": [
    {
     "name": "stdout",
     "output_type": "stream",
     "text": [
      "True\n",
      "True\n",
      "False\n",
      "True\n",
      "False\n"
     ]
    }
   ],
   "source": [
    "print(is_palindrome('aaaabaaaa'))\n",
    "print(is_palindrome('aba'))\n",
    "print(is_palindrome('abc'))\n",
    "print(is_palindrome('racecar'))\n",
    "print(is_palindrome('axba'))"
   ]
  },
  {
   "cell_type": "markdown",
   "metadata": {},
   "source": [
    "#### Get Time Complexity"
   ]
  },
  {
   "cell_type": "code",
   "execution_count": 4,
   "metadata": {},
   "outputs": [
    {
     "name": "stdout",
     "output_type": "stream",
     "text": [
      "ssssssssss\n",
      "Linear: time = 0.0016 + 1.6E-06*n (sec)\n"
     ]
    }
   ],
   "source": [
    "string_gen = lambda n: (''.join(['s']*n))\n",
    "print(string_gen(n=10))\n",
    "best, others = big_o.big_o(is_palindrome, string_gen, n_repeats=20)\n",
    "print(best)"
   ]
  },
  {
   "cell_type": "markdown",
   "metadata": {},
   "source": [
    "### Some Difficulties\n",
    "Given a string, determine if it is a palindrome, considering only alphanumeric characters and ignoring cases.\n",
    "Note: For the purpose of this problem, we define empty string as valid palindrome."
   ]
  },
  {
   "cell_type": "code",
   "execution_count": 5,
   "metadata": {},
   "outputs": [],
   "source": [
    "def is_palindrome(in_str):\n",
    "    result = True\n",
    "    # We should take out space, punctuation, etc... O(2.N)\n",
    "    in_str = in_str.lower()\n",
    "    in_str = ''.join(ch for ch in in_str if ch.isalnum())\n",
    "    print(in_str)\n",
    "    start_idx = 0\n",
    "    end_idx = len(in_str)-1\n",
    "    # O(N/2)\n",
    "    for idx in range(len(in_str)):\n",
    "        if start_idx >= end_idx:\n",
    "            break\n",
    "        else:\n",
    "            if in_str[start_idx] != in_str[end_idx]:\n",
    "                result = False\n",
    "                break\n",
    "            start_idx += 1\n",
    "            end_idx -= 1\n",
    "    return result"
   ]
  },
  {
   "cell_type": "code",
   "execution_count": 6,
   "metadata": {},
   "outputs": [
    {
     "name": "stdout",
     "output_type": "stream",
     "text": [
      "amanaplanacanalpanama\n"
     ]
    },
    {
     "data": {
      "text/plain": [
       "True"
      ]
     },
     "execution_count": 6,
     "metadata": {},
     "output_type": "execute_result"
    }
   ],
   "source": [
    "is_palindrome('A man, a plan, a canal: Panama')"
   ]
  },
  {
   "cell_type": "code",
   "execution_count": 7,
   "metadata": {},
   "outputs": [
    {
     "name": "stdout",
     "output_type": "stream",
     "text": [
      "dammitimmad\n"
     ]
    },
    {
     "data": {
      "text/plain": [
       "True"
      ]
     },
     "execution_count": 7,
     "metadata": {},
     "output_type": "execute_result"
    }
   ],
   "source": [
    "is_palindrome('Dammit! Im mad')"
   ]
  }
 ],
 "metadata": {
  "kernelspec": {
   "display_name": "Python 3",
   "language": "python",
   "name": "python3"
  },
  "language_info": {
   "codemirror_mode": {
    "name": "ipython",
    "version": 3
   },
   "file_extension": ".py",
   "mimetype": "text/x-python",
   "name": "python",
   "nbconvert_exporter": "python",
   "pygments_lexer": "ipython3",
   "version": "3.6.8"
  }
 },
 "nbformat": 4,
 "nbformat_minor": 2
}
