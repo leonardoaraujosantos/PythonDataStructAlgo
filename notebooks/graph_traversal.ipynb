{
 "cells": [
  {
   "cell_type": "markdown",
   "metadata": {},
   "source": [
    "# Graphs Treaversal\n",
    "On this notebook we will learn about graph traversing which basically is a way to visit all nodes in a graph.\n",
    "<img src=\"docs/imgs/simple_graph.png\">\n",
    "\n",
    "#### References\n",
    "* https://www.geeksforgeeks.org/breadth-first-search-or-bfs-for-a-graph/\n",
    "* https://eddmann.com/posts/depth-first-search-and-breadth-first-search-in-python/"
   ]
  },
  {
   "cell_type": "code",
   "execution_count": 7,
   "metadata": {},
   "outputs": [],
   "source": [
    "from collections import defaultdict \n",
    "class DirectedGraph: \n",
    "    # Constructor \n",
    "    def __init__(self): \n",
    "  \n",
    "        # Each element on this dictionary will hold a list\n",
    "        self.graph = defaultdict(list) \n",
    "  \n",
    "    # function to add an edge to graph \n",
    "    def addEdge(self,u,v): \n",
    "        self.graph[u].append(v) \n",
    "  \n",
    "    # Breadth first search traversal (Visit all nodes on graph)\n",
    "    def bfs(self, start_node): \n",
    "  \n",
    "        # Visited list to avoid to be trap in a loop\n",
    "        visited = [False] * (len(self.graph)) \n",
    "  \n",
    "        # Create a queue for BFS (First in First Out) \n",
    "        queue = [] \n",
    "  \n",
    "        # Mark the source node as  \n",
    "        # visited and enqueue it \n",
    "        queue.append(start_node) \n",
    "        visited[start_node] = True\n",
    "  \n",
    "        # While there are elements on the queue\n",
    "        while queue: \n",
    "            # Dequeue a vertex from queue and print it \n",
    "            current_node = queue.pop(0) \n",
    "            print ('Node: %s' % current_node) \n",
    "  \n",
    "            # Iterate on all nodes connected to the current node\n",
    "            # Check if they were already visited and append on the queue\n",
    "            for adjacent_node in self.graph[current_node]: \n",
    "                if visited[adjacent_node] == False: \n",
    "                    queue.append(adjacent_node) \n",
    "                    visited[adjacent_node] = True\n",
    "    \n",
    "    \n",
    "    # Depth First Search\n",
    "    def dfs(self, start_node):\n",
    "        # Visited list to avoid to be trap in a loop\n",
    "        visited = [False] * (len(self.graph)) \n",
    "        \n",
    "        # Create a stack for DFS (Last in First Out)\n",
    "        stack = []\n",
    "        \n",
    "        # Push the current node\n",
    "        stack.append(start_node)\n",
    "        \n",
    "        # While there are elements on the stack\n",
    "        while stack:\n",
    "            # Get the last node from the stack  \n",
    "            current_node = stack[-1]  \n",
    "            stack.pop()\n",
    "            \n",
    "            # Avoid revisiting nodes\n",
    "            if (not visited[current_node]):  \n",
    "                print ('Node: %s' % current_node)  \n",
    "                visited[current_node] = True\n",
    "            \n",
    "            # Iterate on all nodes connected to the current node\n",
    "            # Check if they were already visited and append on the stack\n",
    "            for adjacent_node in self.graph[current_node]: \n",
    "                if visited[adjacent_node] == False: \n",
    "                    stack.append(adjacent_node) \n",
    "\n",
    "        \n",
    "        \n",
    "  \n"
   ]
  },
  {
   "cell_type": "code",
   "execution_count": 8,
   "metadata": {},
   "outputs": [
    {
     "name": "stdout",
     "output_type": "stream",
     "text": [
      "Node: 2\n",
      "Node: 0\n",
      "Node: 3\n",
      "Node: 1\n"
     ]
    }
   ],
   "source": [
    "# Create a graph given in \n",
    "# the above diagram \n",
    "g = DirectedGraph() \n",
    "# Node 0 is goes to 1 and 2\n",
    "g.addEdge(0, 1) \n",
    "g.addEdge(0, 2) \n",
    "# Node 1 is goes to 2\n",
    "g.addEdge(1, 2) \n",
    "# Node 2 is goes to 0 and 3\n",
    "g.addEdge(2, 0) \n",
    "g.addEdge(2, 3) \n",
    "# Node 3 goes to 3\n",
    "g.addEdge(3, 3) \n",
    "  \n",
    "# Starting from node 2\n",
    "g.bfs(2) "
   ]
  },
  {
   "cell_type": "code",
   "execution_count": 9,
   "metadata": {},
   "outputs": [
    {
     "name": "stdout",
     "output_type": "stream",
     "text": [
      "Node: 2\n",
      "Node: 3\n",
      "Node: 0\n",
      "Node: 1\n"
     ]
    }
   ],
   "source": [
    "g.dfs(2)"
   ]
  },
  {
   "cell_type": "code",
   "execution_count": null,
   "metadata": {},
   "outputs": [],
   "source": []
  }
 ],
 "metadata": {
  "kernelspec": {
   "display_name": "Python 3",
   "language": "python",
   "name": "python3"
  },
  "language_info": {
   "codemirror_mode": {
    "name": "ipython",
    "version": 3
   },
   "file_extension": ".py",
   "mimetype": "text/x-python",
   "name": "python",
   "nbconvert_exporter": "python",
   "pygments_lexer": "ipython3",
   "version": "3.6.8"
  }
 },
 "nbformat": 4,
 "nbformat_minor": 2
}
