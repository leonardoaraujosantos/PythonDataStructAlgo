{
 "cells": [
  {
   "cell_type": "markdown",
   "metadata": {},
   "source": [
    "# Google Interview Problem\n",
    "Given a list of integer non-negative sorted numbers:\n",
    "* [1,2,4,4]\n",
    "* [1,2,3,9]\n",
    "\n",
    "Find a pair of values that the sum add to a number (ie:8)\n",
    "\n",
    "#### References\n",
    "* [How to: Work at Google — Example Coding/Engineering Interview](https://www.youtube.com/watch?v=XKu_SEDAykw)\n",
    "* [BigO Python Library](https://github.com/pberkes/big_O)\n",
    "* [Python Search Algorithms](https://stackabuse.com/search-algorithms-in-python/)\n",
    "* [Interview in Java](https://interviewing.io/recordings/Java-Google-1/)"
   ]
  },
  {
   "cell_type": "code",
   "execution_count": 1,
   "metadata": {},
   "outputs": [
    {
     "name": "stdout",
     "output_type": "stream",
     "text": [
      "Constant: time = 0.00032 (sec)\n"
     ]
    }
   ],
   "source": [
    "import big_o\n",
    "\n",
    "# Implement Binary Search\n",
    "def bin_search(list_input, val=20000):\n",
    "    first = 0\n",
    "    last = len(list_input)-1\n",
    "    index = None\n",
    "    while (first <= last) and (index == None):\n",
    "        mid = (first+last)//2\n",
    "        if list_input[mid] == val:\n",
    "            index = mid\n",
    "        else:\n",
    "            if val<list_input[mid]:\n",
    "                last = mid -1\n",
    "            else:\n",
    "                first = mid +1\n",
    "    return index\n",
    "\n",
    "print(big_o.big_o(bin_search, lambda n: sorted(big_o.datagen.integers(n, 0, 10000)), \n",
    "                  n_repeats=100, min_n=1, max_n=100000)[0])"
   ]
  },
  {
   "cell_type": "code",
   "execution_count": 2,
   "metadata": {},
   "outputs": [
    {
     "name": "stdout",
     "output_type": "stream",
     "text": [
      "4\n"
     ]
    }
   ],
   "source": [
    "print(bin_search([10,20,30,40,50], 50))"
   ]
  },
  {
   "cell_type": "code",
   "execution_count": 11,
   "metadata": {},
   "outputs": [],
   "source": [
    "# This Naive approach will be quadratic O(n^2) time on worst case\n",
    "def sol_naive(list_input, m=11):\n",
    "    result = False\n",
    "    for first in list_input: #O(n)\n",
    "        for second in list_input: #O(n)\n",
    "            if (first + second) == m:\n",
    "                result = True\n",
    "                return result, [first, second]\n",
    "    return result, None"
   ]
  },
  {
   "cell_type": "code",
   "execution_count": 12,
   "metadata": {},
   "outputs": [
    {
     "name": "stdout",
     "output_type": "stream",
     "text": [
      "(True, [4, 4])\n",
      "(False, None)\n",
      "Quadratic: time = 0.021 + 1.8E-08*n^2 (sec)\n"
     ]
    }
   ],
   "source": [
    "m=8\n",
    "lists = [[1,2,4,4], [1,2,3,9]]\n",
    "for list_input in lists:\n",
    "    print(sol_naive(list_input,m))\n",
    "\n",
    "# Get Time complexity\n",
    "print(big_o.big_o(sol_naive, lambda n: sorted(big_o.datagen.integers(n, 0, 10)), \n",
    "                  n_repeats=5, min_n=1, max_n=20000)[0])"
   ]
  },
  {
   "cell_type": "markdown",
   "metadata": {},
   "source": [
    "#### Idea 2\n",
    "Start from the first element and do binary search for the complement that adds to \"m\" in all elements of the list from that point"
   ]
  },
  {
   "cell_type": "code",
   "execution_count": 5,
   "metadata": {},
   "outputs": [],
   "source": [
    "# This approach will be quadratic O(n.log(n)) time on worst case\n",
    "def sol_search(list_input, m=20000):\n",
    "    result = False\n",
    "    for idx,first in enumerate(list_input): #O(n)\n",
    "        complement = m - first #O(1)\n",
    "        #if complement in list_input[idx:]: #(O(log(n))\n",
    "        if bin_search(list_input[idx:], complement) != None:\n",
    "            result = True\n",
    "            return result, [first, complement]\n",
    "    return result, None"
   ]
  },
  {
   "cell_type": "code",
   "execution_count": 6,
   "metadata": {},
   "outputs": [
    {
     "name": "stdout",
     "output_type": "stream",
     "text": [
      "(True, [4, 4])\n",
      "(False, None)\n",
      "Quadratic: time = 0.16 + 8.4E-09*n^2 (sec)\n"
     ]
    }
   ],
   "source": [
    "m=8\n",
    "lists = [[1,2,4,4], [1,2,3,9]]\n",
    "for list_input in lists:\n",
    "    print(sol_search(list_input,m))\n",
    "\n",
    "# Get Time complexity\n",
    "print(big_o.big_o(sol_search, lambda n: sorted(big_o.datagen.integers(n, 0, 10)), \n",
    "                  n_repeats=5, min_n=1, max_n=20000)[0])"
   ]
  },
  {
   "cell_type": "markdown",
   "metadata": {},
   "source": [
    "#### Idea 3\n",
    "Keep 2 cursors A,B where A start at first position and B start at last position, so for each element of the list you do the following:\n",
    "* if (mem[A] + mem[B]) < m, A is incremented\n",
    "* if (mem[A] + mem[B]) > m, B is decrented\n",
    "* if A>=B stop"
   ]
  },
  {
   "cell_type": "code",
   "execution_count": 7,
   "metadata": {},
   "outputs": [],
   "source": [
    "# This approach will be linear O(n) time on worst case\n",
    "def sol_pointers(list_input, m=20000):\n",
    "    result = False\n",
    "    A = 0\n",
    "    B=len(list_input)-1\n",
    "    for first in list_input: #O(n)\n",
    "        pA = list_input[A] #O(1)\n",
    "        pB = list_input[B] #O(1)\n",
    "        sum_pair = pA + pB #O(1)\n",
    "        if sum_pair < m: \n",
    "            # Move cursor A to the right\n",
    "            A += 1\n",
    "        elif sum_pair > m:\n",
    "            # Move cursor B to the left\n",
    "            B -= 1\n",
    "        elif sum_pair == m:\n",
    "            result = True\n",
    "            return result, [pA, pB]\n",
    "        if A >= B:\n",
    "            break\n",
    "    return result, None"
   ]
  },
  {
   "cell_type": "code",
   "execution_count": 8,
   "metadata": {},
   "outputs": [
    {
     "name": "stdout",
     "output_type": "stream",
     "text": [
      "(True, [4, 4])\n",
      "(False, None)\n",
      "Linear: time = 0.00027 + 6.8E-07*n (sec)\n"
     ]
    }
   ],
   "source": [
    "m=8\n",
    "lists = [[1,2,4,4], [1,2,3,9]]\n",
    "for list_input in lists:\n",
    "    print(sol_pointers(list_input,m))\n",
    "\n",
    "# Get Time complexity\n",
    "print(big_o.big_o(sol_pointers, lambda n: sorted(big_o.datagen.integers(n, 0, 10)), \n",
    "                  n_repeats=5, min_n=1, max_n=20000)[0])"
   ]
  }
 ],
 "metadata": {
  "kernelspec": {
   "display_name": "Python 3",
   "language": "python",
   "name": "python3"
  },
  "language_info": {
   "codemirror_mode": {
    "name": "ipython",
    "version": 3
   },
   "file_extension": ".py",
   "mimetype": "text/x-python",
   "name": "python",
   "nbconvert_exporter": "python",
   "pygments_lexer": "ipython3",
   "version": "3.7.3"
  }
 },
 "nbformat": 4,
 "nbformat_minor": 4
}
