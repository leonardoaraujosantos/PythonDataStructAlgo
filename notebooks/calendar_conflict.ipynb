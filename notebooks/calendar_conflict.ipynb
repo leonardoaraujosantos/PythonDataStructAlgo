{
 "cells": [
  {
   "cell_type": "markdown",
   "metadata": {},
   "source": [
    "# Calendar Conflict\n",
    "Imagine you have a sorted list of things to do in your day, and this algorithm need to find if there is any conflict like something you need to do while you are already doing something.\n",
    "```python\n",
    "things_day = [ [1,2,'a'], #start,end,ID\n",
    "               [3,5,'b'],\n",
    "               [4,6,'c'],\n",
    "               [7,10,'d'],\n",
    "               [8,11,'e'],\n",
    "               [10,12,'f'],\n",
    "               [13,14,'g'],\n",
    "               [13,14,'h'],\n",
    "]\n",
    "```\n",
    "Given this list we can see we have conflicts between b/c d/e/f and g/h\n",
    "\n",
    "#### References\n",
    "* https://leetcode.com/problems/my-calendar-i/\n",
    "* https://www.youtube.com/watch?v=GBuHSRDGZBY\n",
    "* https://www.youtube.com/watch?v=olK6SWl8UrM"
   ]
  },
  {
   "cell_type": "code",
   "execution_count": 1,
   "metadata": {},
   "outputs": [],
   "source": [
    "things_day = [ [1,2,'a'], #start,end,ID\n",
    "               [3,5,'b'],\n",
    "               [4,6,'c'],\n",
    "               [7,10,'d'],\n",
    "               [8,11,'e'],\n",
    "               [10,12,'f'],\n",
    "               [13,14,'g'],\n",
    "               [13,14,'h'],\n",
    "]\n"
   ]
  },
  {
   "cell_type": "markdown",
   "metadata": {},
   "source": [
    "#### Brute Force\n",
    "Compare every event to every other event in the calendar, to find any possible event combination."
   ]
  },
  {
   "cell_type": "code",
   "execution_count": 2,
   "metadata": {},
   "outputs": [],
   "source": [
    "# Here the Time complexity will be O(N^2)\n",
    "def check_conflict_brute(day_agenda):\n",
    "    agenda_copy = day_agenda.copy()\n",
    "    list_conflicts = []\n",
    "    has_conflict = False\n",
    "    for event in day_agenda:\n",
    "        start_event, end_event, id_event = event\n",
    "        # Avoid checking with the event itself\n",
    "        agenda_copy.remove(event)\n",
    "        for event_other in agenda_copy:\n",
    "            start_event_other, end_event_other, id_event_other = event_other\n",
    "            # Check conflict\n",
    "            if (end_event >= start_event_other):\n",
    "                has_conflict = True\n",
    "                list_conflicts.append((id_event,id_event_other))\n",
    "    return has_conflict, list_conflicts"
   ]
  },
  {
   "cell_type": "code",
   "execution_count": 3,
   "metadata": {},
   "outputs": [
    {
     "data": {
      "text/plain": [
       "(True, [('b', 'c'), ('d', 'e'), ('d', 'f'), ('e', 'f'), ('g', 'h')])"
      ]
     },
     "execution_count": 3,
     "metadata": {},
     "output_type": "execute_result"
    }
   ],
   "source": [
    "check_conflict_brute(things_day)"
   ]
  },
  {
   "cell_type": "markdown",
   "metadata": {},
   "source": [
    "#### Better Approach\n",
    "As we know that the agenda is sorted, so the next event start time will always be bigger or equal than the previous event start time we don't need to check one event against all of the others."
   ]
  },
  {
   "cell_type": "code",
   "execution_count": 4,
   "metadata": {},
   "outputs": [],
   "source": [
    "def check_conflict_smarter(sorted_day_agenda):\n",
    "    list_conflicts = []\n",
    "    has_conflict = False\n",
    "    start_event, end_event, id_event = sorted_day_agenda[0]\n",
    "    for idx in range(1,len(sorted_day_agenda)):\n",
    "        start_event_next, end_event_next, id_event_next = sorted_day_agenda[idx]\n",
    "        if (end_event >= start_event_next):\n",
    "            has_conflict = True\n",
    "            list_conflicts.append((id_event,id_event_next))\n",
    "        start_event, end_event, id_event = sorted_day_agenda[idx]\n",
    "    return has_conflict, list_conflicts"
   ]
  },
  {
   "cell_type": "code",
   "execution_count": 5,
   "metadata": {},
   "outputs": [
    {
     "data": {
      "text/plain": [
       "(True, [('b', 'c'), ('d', 'e'), ('e', 'f'), ('g', 'h')])"
      ]
     },
     "execution_count": 5,
     "metadata": {},
     "output_type": "execute_result"
    }
   ],
   "source": [
    "check_conflict_smarter(things_day)"
   ]
  }
 ],
 "metadata": {
  "kernelspec": {
   "display_name": "Python 3",
   "language": "python",
   "name": "python3"
  },
  "language_info": {
   "codemirror_mode": {
    "name": "ipython",
    "version": 3
   },
   "file_extension": ".py",
   "mimetype": "text/x-python",
   "name": "python",
   "nbconvert_exporter": "python",
   "pygments_lexer": "ipython3",
   "version": "3.6.8"
  }
 },
 "nbformat": 4,
 "nbformat_minor": 2
}
