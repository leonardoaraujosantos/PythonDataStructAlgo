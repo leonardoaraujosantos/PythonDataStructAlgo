{
 "cells": [
  {
   "cell_type": "markdown",
   "metadata": {},
   "source": [
    "# Calendar Conflict\n",
    "Imagine you have a sorted list of things to do in your day, and this algorithm need to find if there is any conflict like something you need to do while you are already doing something.\n",
    "```python\n",
    "things_day = [ [1,2,'a'], #start,end,ID\n",
    "               [3,5,'b'],\n",
    "               [4,6,'c'],\n",
    "               [7,10,'d'],\n",
    "               [8,11,'e'],\n",
    "               [10,12,'f'],\n",
    "               [13,14,'g'],\n",
    "               [13,14,'h'],\n",
    "]\n",
    "```\n",
    "Given this list we can see we have conflicts between b/c d/e/f and g/h\n",
    "\n",
    "#### References\n",
    "* https://leetcode.com/problems/my-calendar-i/\n",
    "* https://www.youtube.com/watch?v=GBuHSRDGZBY\n",
    "* https://www.youtube.com/watch?v=olK6SWl8UrM"
   ]
  },
  {
   "cell_type": "code",
   "execution_count": 1,
   "metadata": {},
   "outputs": [],
   "source": [
    "things_day = [ [1,2,'a'], #start,end,ID\n",
    "               [3,5,'b'],\n",
    "               [4,6,'c'],\n",
    "               [7,10,'d'],\n",
    "               [8,11,'e'],\n",
    "               [10,12,'f'],\n",
    "               [13,14,'g'],\n",
    "               [13,14,'h'],\n",
    "]\n"
   ]
  },
  {
   "cell_type": "markdown",
   "metadata": {},
   "source": [
    "#### Brute Force\n",
    "Compare every event to every other event in the calendar, to find any possible event combination."
   ]
  },
  {
   "cell_type": "code",
   "execution_count": 2,
   "metadata": {},
   "outputs": [],
   "source": [
    "# Here the Time complexity will be O(N^2)\n",
    "def check_conflict_brute(day_agenda):\n",
    "    agenda_copy = day_agenda.copy()\n",
    "    list_conflicts = []\n",
    "    has_conflict = False\n",
    "    for event in day_agenda:\n",
    "        start_event, end_event, id_event = event\n",
    "        # Avoid checking with the event itself\n",
    "        agenda_copy.remove(event)\n",
    "        for event_other in agenda_copy:\n",
    "            start_event_other, end_event_other, id_event_other = event_other\n",
    "            # Check conflict\n",
    "            if (end_event >= start_event_other):\n",
    "                has_conflict = True\n",
    "                list_conflicts.append((id_event,id_event_other))\n",
    "    return has_conflict, list_conflicts"
   ]
  },
  {
   "cell_type": "code",
   "execution_count": 3,
   "metadata": {},
   "outputs": [
    {
     "data": {
      "text/plain": [
       "(True, [('b', 'c'), ('d', 'e'), ('d', 'f'), ('e', 'f'), ('g', 'h')])"
      ]
     },
     "execution_count": 3,
     "metadata": {},
     "output_type": "execute_result"
    }
   ],
   "source": [
    "check_conflict_brute(things_day)"
   ]
  },
  {
   "cell_type": "markdown",
   "metadata": {},
   "source": [
    "#### Better Approach\n",
    "As we know that the agenda is sorted, so the next event start time will always be bigger or equal than the previous event start time we don't need to check one event against all of the others."
   ]
  },
  {
   "cell_type": "code",
   "execution_count": 4,
   "metadata": {},
   "outputs": [],
   "source": [
    "def check_conflict_smarter(sorted_day_agenda):\n",
    "    list_conflicts = []\n",
    "    has_conflict = False\n",
    "    start_event, end_event, id_event = sorted_day_agenda[0]\n",
    "    for idx in range(1,len(sorted_day_agenda)):\n",
    "        start_event_next, end_event_next, id_event_next = sorted_day_agenda[idx]\n",
    "        if (end_event >= start_event_next):\n",
    "            has_conflict = True\n",
    "            list_conflicts.append((id_event,id_event_next))\n",
    "        start_event, end_event, id_event = sorted_day_agenda[idx]\n",
    "    return has_conflict, list_conflicts"
   ]
  },
  {
   "cell_type": "code",
   "execution_count": 5,
   "metadata": {},
   "outputs": [
    {
     "data": {
      "text/plain": [
       "(True, [('b', 'c'), ('d', 'e'), ('e', 'f'), ('g', 'h')])"
      ]
     },
     "execution_count": 5,
     "metadata": {},
     "output_type": "execute_result"
    }
   ],
   "source": [
    "check_conflict_smarter(things_day)"
   ]
  },
  {
   "cell_type": "markdown",
   "metadata": {},
   "source": [
    "# Variant\n",
    "Implement a MyCalendar class to store your events. A new event can be added if adding the event will not cause a double booking.\n",
    "\n",
    "Your class will have the method, book(int start, int end). Formally, this represents a booking on the half open interval [start, end), the range of real numbers x such that start <= x < end.\n",
    "\n",
    "A double booking happens when two events have some non-empty intersection (ie., there is some time that is common to both events.)\n",
    "\n",
    "For each call to the method MyCalendar.book, return true if the event can be added to the calendar successfully without causing a double booking. Otherwise, return false and do not add the event to the calendar.\n",
    "\n",
    "Your class will be called like this: MyCalendar cal = new MyCalendar(); MyCalendar.book(start, end)\n",
    "\n",
    "```c++\n",
    "MyCalendar();\n",
    "MyCalendar.book(10, 20); // returns true\n",
    "MyCalendar.book(15, 25); // returns false\n",
    "MyCalendar.book(20, 30); // returns true\n",
    "```\n",
    "#### Explanation\n",
    "The first event can be booked.  The second can't because time 15 is already booked by another event.\n",
    "The third event can be booked, as the first event takes every time less than 20, but not including 20."
   ]
  },
  {
   "cell_type": "code",
   "execution_count": 75,
   "metadata": {},
   "outputs": [],
   "source": [
    "class MyCalendar():\n",
    "    def __init__(self):\n",
    "        self.calendar = []\n",
    "    \n",
    "    # This will be Time Complexity O(N)\n",
    "    def book(self, start, end):\n",
    "        has_conflict = False\n",
    "        start_event_new, end_event_new = (start, end)\n",
    "        if self.calendar:\n",
    "            start_event_first, end_event_first = self.calendar[0]\n",
    "            # If you are adding an event before the start of the first event on list\n",
    "            if end_event_new < start_event_first:\n",
    "                self.calendar.append((start, end))\n",
    "                # Force list to be always sorted\n",
    "                self.calendar = sorted(self.calendar, key = lambda i: i[0]) \n",
    "                return True\n",
    "        \n",
    "        for event in self.calendar:\n",
    "            start_event_other, end_event_other = event\n",
    "            # Check conflict\n",
    "            if (start_event_new < end_event_other) and (start_event_other < end_event_new):\n",
    "                has_conflict = True\n",
    "        \n",
    "        if not has_conflict:\n",
    "            self.calendar.append((start, end))\n",
    "            # Force list to be always sorted\n",
    "            self.calendar = sorted(self.calendar, key = lambda i: i[0]) \n",
    "        return not has_conflict\n",
    "    \n",
    "    def print_calendar(self):\n",
    "        print(self.calendar)"
   ]
  },
  {
   "cell_type": "code",
   "execution_count": 78,
   "metadata": {},
   "outputs": [
    {
     "name": "stdout",
     "output_type": "stream",
     "text": [
      "True\n",
      "False\n",
      "True\n",
      "True\n",
      "True\n"
     ]
    }
   ],
   "source": [
    "cal = MyCalendar()\n",
    "print(cal.book(10, 20))\n",
    "print(cal.book(15, 25))\n",
    "print(cal.book(20, 30))\n",
    "print(cal.book(30, 40))\n",
    "print(cal.book(8, 9))"
   ]
  },
  {
   "cell_type": "code",
   "execution_count": 79,
   "metadata": {},
   "outputs": [
    {
     "name": "stdout",
     "output_type": "stream",
     "text": [
      "[(8, 9), (10, 20), (20, 30), (30, 40)]\n"
     ]
    }
   ],
   "source": [
    "cal.print_calendar()"
   ]
  }
 ],
 "metadata": {
  "kernelspec": {
   "display_name": "Python 3",
   "language": "python",
   "name": "python3"
  },
  "language_info": {
   "codemirror_mode": {
    "name": "ipython",
    "version": 3
   },
   "file_extension": ".py",
   "mimetype": "text/x-python",
   "name": "python",
   "nbconvert_exporter": "python",
   "pygments_lexer": "ipython3",
   "version": "3.6.8"
  }
 },
 "nbformat": 4,
 "nbformat_minor": 2
}
