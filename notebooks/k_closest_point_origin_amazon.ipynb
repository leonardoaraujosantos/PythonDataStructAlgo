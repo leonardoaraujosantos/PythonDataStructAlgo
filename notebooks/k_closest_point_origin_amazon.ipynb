{
 "cells": [
  {
   "cell_type": "markdown",
   "metadata": {},
   "source": [
    "# K Closest Points to Origin Amazon\n",
    "We have a list of points on the plane.  Find the K closest points to the origin (0, 0).\n",
    "\n",
    "(Here, the distance between two points on a plane is the Euclidean distance.)\n",
    "\n",
    "You may return the answer in any order.  The answer is guaranteed to be unique (except for the order that it is in.)\n",
    "\n",
    "#### Example 1:\n",
    "```bash\n",
    "Input: points = [[1,3],[-2,2]], K = 1\n",
    "Output: [[-2,2]]\n",
    "````\n",
    "##### Explanation: \n",
    "The distance between (1, 3) and the origin is sqrt(10).\n",
    "The distance between (-2, 2) and the origin is sqrt(8).\n",
    "Since sqrt(8) < sqrt(10), (-2, 2) is closer to the origin.\n",
    "We only want the closest K = 1 points from the origin, so the answer is just [[-2,2]].\n",
    "\n",
    "#### Example 2:\n",
    "```bash\n",
    "Input: points = [[3,3],[5,-1],[-2,4]], K = 2\n",
    "Output: [[3,3],[-2,4]]\n",
    "```\n",
    "(The answer [[-2,4],[3,3]] would also be accepted.)\n",
    "\n",
    "#### References\n",
    "* https://www.youtube.com/watch?v=eaYX0Ee0Kcg&feature=youtu.be\n",
    "* https://www.youtube.com/watch?v=t0Cq6tVNRBA\n",
    "* https://leetcode.com/problems/k-closest-points-to-origin/\n",
    "* https://towardsdatascience.com/data-structure-heap-23d4c78a6962"
   ]
  },
  {
   "cell_type": "code",
   "execution_count": 1,
   "metadata": {},
   "outputs": [
    {
     "name": "stdout",
     "output_type": "stream",
     "text": [
      "3.1622776601683795\n"
     ]
    }
   ],
   "source": [
    "import numpy as np\n",
    "import heapq\n",
    "\n",
    "def euclidian(a,b):\n",
    "    return np.sqrt((a[0]-b[0])**2 + (a[1]-b[1])**2)\n",
    "\n",
    "print(euclidian([1,3], [-2,2]))"
   ]
  },
  {
   "cell_type": "markdown",
   "metadata": {},
   "source": [
    "#### Simple Approach\n",
    "We can first calculate the distance between each point and the origin "
   ]
  },
  {
   "cell_type": "code",
   "execution_count": 2,
   "metadata": {},
   "outputs": [],
   "source": [
    "# This solution will be O(N)\n",
    "def kClosest(points, K):\n",
    "    # Get all distances to origin [0,0]\n",
    "    list_points_dist = []\n",
    "    origin = (0,0)\n",
    "    for point in points:\n",
    "        distance = euclidian(point, origin)\n",
    "        list_points_dist.append((point[0], point[1], distance))\n",
    "    \n",
    "    # Sort list based on distance (list_points_dist[0][2])\n",
    "    # O(n.log(n))\n",
    "    list_points_dist_sort = sorted(list_points_dist, key=lambda x: x[2])\n",
    "    # Get K elements\n",
    "    list_points_dist_sort = list_points_dist_sort[0:K]\n",
    "    # Get back list of points\n",
    "    out_list = [[x,y] for x,y,_ in list_points_dist_sort]\n",
    "    return out_list"
   ]
  },
  {
   "cell_type": "code",
   "execution_count": 3,
   "metadata": {},
   "outputs": [
    {
     "name": "stdout",
     "output_type": "stream",
     "text": [
      "Example 1: [[-2, 2]]\n",
      "Example 2: [[3, 3], [-2, 4]]\n"
     ]
    }
   ],
   "source": [
    "print('Example 1:',kClosest([[1,3],[-2,2]], K=1))\n",
    "print('Example 2:',kClosest([[3,3],[5,-1],[-2,4]], K=2))"
   ]
  },
  {
   "cell_type": "markdown",
   "metadata": {},
   "source": [
    "#### Solution Using Heaps\n",
    "Probably on the interview you wont be questioned to implement a Heap from scratch but is important to know that heaps are the best data structure to answer questions of the type, give me the top K smallest(MaxHeap)/biggest(MinHeap)\n",
    "\n",
    "O(k+(n-k).log(k))\n",
    "\n",
    "#### Time Complexity for Heaps\n",
    "* Create: O(n)\n",
    "* Insert: O(log(n))\n",
    "* Traverse: O(n)"
   ]
  },
  {
   "cell_type": "code",
   "execution_count": 4,
   "metadata": {},
   "outputs": [],
   "source": [
    "def kClosest(points, K):\n",
    "    # Get all distances to origin [0,0]\n",
    "    list_points_dist = []\n",
    "    origin = (0,0)\n",
    "    for point in points:\n",
    "        distance = euclidian(point, origin)\n",
    "        list_points_dist.append((point[0], point[1], distance))\n",
    "    \n",
    "    # Convert list into heap\n",
    "    heapq.heapify(list_points_dist) \n",
    "    k_smallest = heapq.nsmallest(K, list_points_dist, key=lambda x: x[2]) \n",
    "    \n",
    "    # Get back list of points\n",
    "    out_list = [[x,y] for x,y,_ in k_smallest]\n",
    "    return out_list"
   ]
  },
  {
   "cell_type": "code",
   "execution_count": 5,
   "metadata": {},
   "outputs": [
    {
     "name": "stdout",
     "output_type": "stream",
     "text": [
      "Example 1: [[-2, 2]]\n",
      "Example 2: [[3, 3], [-2, 4]]\n"
     ]
    }
   ],
   "source": [
    "print('Example 1:',kClosest([[1,3],[-2,2]], K=1))\n",
    "print('Example 2:',kClosest([[3,3],[5,-1],[-2,4]], K=2))"
   ]
  },
  {
   "cell_type": "markdown",
   "metadata": {},
   "source": [
    "#### Solution With Sort\n",
    "This solution (on liner) sort directly the list and calculate the distance using a lambda"
   ]
  },
  {
   "cell_type": "code",
   "execution_count": 6,
   "metadata": {},
   "outputs": [],
   "source": [
    "def kClosest(points, K):\n",
    "    points.sort(key=lambda a: np.sqrt(a[0]**2+a[1]**2))\n",
    "    return points[:K]"
   ]
  },
  {
   "cell_type": "code",
   "execution_count": 7,
   "metadata": {},
   "outputs": [
    {
     "name": "stdout",
     "output_type": "stream",
     "text": [
      "Example 1: [[-2, 2]]\n",
      "Example 2: [[3, 3], [-2, 4]]\n"
     ]
    }
   ],
   "source": [
    "print('Example 1:',kClosest([[1,3],[-2,2]], K=1))\n",
    "print('Example 2:',kClosest([[3,3],[5,-1],[-2,4]], K=2))"
   ]
  }
 ],
 "metadata": {
  "kernelspec": {
   "display_name": "Python 3",
   "language": "python",
   "name": "python3"
  },
  "language_info": {
   "codemirror_mode": {
    "name": "ipython",
    "version": 3
   },
   "file_extension": ".py",
   "mimetype": "text/x-python",
   "name": "python",
   "nbconvert_exporter": "python",
   "pygments_lexer": "ipython3",
   "version": "3.6.8"
  }
 },
 "nbformat": 4,
 "nbformat_minor": 2
}
