{
 "cells": [
  {
   "cell_type": "markdown",
   "metadata": {},
   "source": [
    "# Dinner Party\n",
    "Given a table for N=3 people, figure out every possible seating for all of your friends (A,B,C,D,E).\n",
    "\n",
    "```bash\n",
    "ABC ADE\n",
    "ABD BCD\n",
    "ABE BCE\n",
    "ACD BDE\n",
    "ACE CDE\n",
    "```\n",
    "\n",
    "#### Permutations\n",
    "The number of permutations of n objects taken r at a time is determined by the following formula:\n",
    "$$P(n,r)=\\frac{n!}{r!(n-r)!}$$\n",
    "\n",
    "#### References\n",
    "* https://www.geeksforgeeks.org/python-program-to-get-all-subsets-of-given-size-of-a-set/\n",
    "* https://www.mathsisfun.com/combinatorics/combinations-permutations.html"
   ]
  },
  {
   "cell_type": "code",
   "execution_count": 7,
   "metadata": {},
   "outputs": [],
   "source": [
    "import itertools\n",
    "friends = ['A','B','C','D','E']\n",
    "table_size=3"
   ]
  },
  {
   "cell_type": "markdown",
   "metadata": {},
   "source": [
    "#### Pythonic Way (This also is called sometimes the powerset)"
   ]
  },
  {
   "cell_type": "code",
   "execution_count": 8,
   "metadata": {},
   "outputs": [
    {
     "data": {
      "text/plain": [
       "[('A', 'B', 'C'),\n",
       " ('A', 'B', 'D'),\n",
       " ('A', 'B', 'E'),\n",
       " ('A', 'C', 'D'),\n",
       " ('A', 'C', 'E'),\n",
       " ('A', 'D', 'E'),\n",
       " ('B', 'C', 'D'),\n",
       " ('B', 'C', 'E'),\n",
       " ('B', 'D', 'E'),\n",
       " ('C', 'D', 'E')]"
      ]
     },
     "execution_count": 8,
     "metadata": {},
     "output_type": "execute_result"
    }
   ],
   "source": [
    "[x for x in itertools.combinations(friends,table_size)]"
   ]
  },
  {
   "cell_type": "code",
   "execution_count": 14,
   "metadata": {},
   "outputs": [],
   "source": [
    "def combine_friends(friends, table_size, pos=0, group = [], groups=[]):\n",
    "    if len(group) == table_size:\n",
    "        groups.append(group)\n",
    "    elif pos < len(friends):\n",
    "        # leave\n",
    "        combine_friends(friends, table_size, pos+1, group)\n",
    "\n",
    "        # take\n",
    "        new_group = list(group)\n",
    "        new_group.append(friends[pos])\n",
    "\n",
    "        combine_friends(friends, table_size, pos+1, new_group)\n",
    "    return groups"
   ]
  },
  {
   "cell_type": "code",
   "execution_count": 15,
   "metadata": {},
   "outputs": [],
   "source": [
    "def find_dinner(friends, table_size):\n",
    "    groups = combine_friends(friends, table_size)\n",
    "    print(groups)"
   ]
  },
  {
   "cell_type": "code",
   "execution_count": 16,
   "metadata": {},
   "outputs": [
    {
     "name": "stdout",
     "output_type": "stream",
     "text": [
      "[['C', 'D', 'E'], ['B', 'D', 'E'], ['B', 'C', 'E'], ['B', 'C', 'D'], ['A', 'D', 'E'], ['A', 'C', 'E'], ['A', 'C', 'D'], ['A', 'B', 'E'], ['A', 'B', 'D'], ['A', 'B', 'C']]\n"
     ]
    }
   ],
   "source": [
    "find_dinner(friends, table_size)"
   ]
  }
 ],
 "metadata": {
  "kernelspec": {
   "display_name": "Python 3",
   "language": "python",
   "name": "python3"
  },
  "language_info": {
   "codemirror_mode": {
    "name": "ipython",
    "version": 3
   },
   "file_extension": ".py",
   "mimetype": "text/x-python",
   "name": "python",
   "nbconvert_exporter": "python",
   "pygments_lexer": "ipython3",
   "version": "3.6.8"
  }
 },
 "nbformat": 4,
 "nbformat_minor": 2
}
