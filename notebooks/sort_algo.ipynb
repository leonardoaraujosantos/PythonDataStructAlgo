{
 "cells": [
  {
   "cell_type": "markdown",
   "metadata": {},
   "source": [
    "# Sort Algorithms\n",
    "Those algorithms are used to order a list of elements (ie: Integers)\n",
    "#### References\n",
    "* [Buble Sort](https://www.youtube.com/watch?v=6Gv8vg0kcHc&list=PLI1t_8YX-ApvMthLj56t1Rf-Buio5Y8KL&index=9)\n",
    "* [Merge Sort](https://www.youtube.com/watch?v=KF2j-9iSf4Q&list=PLI1t_8YX-ApvMthLj56t1Rf-Buio5Y8KL&index=8)\n",
    "* [Quick Sort](https://www.youtube.com/watch?v=KF2j-9iSf4Q&list=PLI1t_8YX-ApvMthLj56t1Rf-Buio5Y8KL&index=7)\n",
    "* [Merge Sort Ikea](https://idea-instructions.com/merge-sort/)"
   ]
  },
  {
   "cell_type": "code",
   "execution_count": 1,
   "metadata": {},
   "outputs": [],
   "source": [
    "input_list = [10,3,5,12,9,20]"
   ]
  },
  {
   "cell_type": "markdown",
   "metadata": {},
   "source": [
    "### Buble Sort\n",
    "It's the simplest algorithm basically it swap each element of the list if the next element is smaller\n",
    "\n",
    "![alt text](docs/imgs/bubble_sort.png \"Title\")"
   ]
  },
  {
   "cell_type": "code",
   "execution_count": 2,
   "metadata": {},
   "outputs": [],
   "source": [
    "# Time complexity O(N^2)\n",
    "def bubble_sort(input_list):\n",
    "    result = input_list.copy()\n",
    "    had_swap = True\n",
    "    \n",
    "    while(had_swap):\n",
    "        had_swap = False\n",
    "        for idx in range(0,len(input_list)):\n",
    "            curr_val = input_list[idx]\n",
    "            if idx+1 < len(input_list):\n",
    "                next_val = input_list[idx+1]\n",
    "            else:\n",
    "                next_val = None\n",
    "            #print('Curr:', curr_val, 'next:', next_val)\n",
    "            if next_val:\n",
    "                if curr_val > next_val:\n",
    "                    # Swap\n",
    "                    result[idx+1] = curr_val\n",
    "                    result[idx] = next_val\n",
    "                    had_swap = True\n",
    "        input_list = result.copy()\n",
    "    return result\n",
    "        "
   ]
  },
  {
   "cell_type": "code",
   "execution_count": 3,
   "metadata": {},
   "outputs": [
    {
     "data": {
      "text/plain": [
       "[3, 5, 9, 10, 12, 20]"
      ]
     },
     "execution_count": 3,
     "metadata": {},
     "output_type": "execute_result"
    }
   ],
   "source": [
    "bubble_sort(input_list)"
   ]
  },
  {
   "cell_type": "markdown",
   "metadata": {},
   "source": [
    "#### Merge Sort\n",
    "This one is my favourite but probaly they wont ask you to develop this one on the interview.\n",
    "\n",
    "![alt text](docs/imgs/merge_sort.png \"Title\")\n"
   ]
  },
  {
   "cell_type": "code",
   "execution_count": 6,
   "metadata": {},
   "outputs": [],
   "source": [
    "def merge_arrays(left, right):   \n",
    "    left_index, right_index = 0, 0\n",
    "    result = []\n",
    "    while left_index < len(left) and right_index < len(right):\n",
    "        if left[left_index] < right[right_index]:\n",
    "            result.append(left[left_index])\n",
    "            left_index += 1\n",
    "        else:\n",
    "            result.append(right[right_index])\n",
    "            right_index += 1\n",
    "\n",
    "    result += left[left_index:]\n",
    "    result += right[right_index:]\n",
    "    return result\n",
    "\n",
    "\n",
    "def merge_sort_recursive(input_list):\n",
    "    if len(input_list) <= 1:  # base case\n",
    "        return input_list\n",
    "\n",
    "    # divide array in half and merge sort recursively\n",
    "    half = len(input_list) // 2\n",
    "    left = merge_sort_recursive(input_list[:half])\n",
    "    right = merge_sort_recursive(input_list[half:])\n",
    "\n",
    "    return merge_arrays(left, right)"
   ]
  },
  {
   "cell_type": "code",
   "execution_count": 7,
   "metadata": {},
   "outputs": [
    {
     "data": {
      "text/plain": [
       "[3, 5, 9, 10, 12, 20]"
      ]
     },
     "execution_count": 7,
     "metadata": {},
     "output_type": "execute_result"
    }
   ],
   "source": [
    "merge_sort_recursive(input_list)"
   ]
  }
 ],
 "metadata": {
  "kernelspec": {
   "display_name": "Python 3",
   "language": "python",
   "name": "python3"
  },
  "language_info": {
   "codemirror_mode": {
    "name": "ipython",
    "version": 3
   },
   "file_extension": ".py",
   "mimetype": "text/x-python",
   "name": "python",
   "nbconvert_exporter": "python",
   "pygments_lexer": "ipython3",
   "version": "3.7.3"
  }
 },
 "nbformat": 4,
 "nbformat_minor": 4
}
