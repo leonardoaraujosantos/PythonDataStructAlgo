{
 "cells": [
  {
   "cell_type": "markdown",
   "metadata": {},
   "source": [
    "# Amazon Interview (Recursive Staircase)\n",
    "Given a stair with N-Steps and a person that can climb one/two steps at a time, create an algorithm that find the possible ways to climb the stair.\n",
    "![alt text](docs/imgs/staircase_problem.png \"Title\")\n",
    "\n",
    "#### Explanation\n",
    "Any staircase with 𝑛 steps allowing paths with increments of 1 or 2 steps at a time will end up in one of two states before the last path is taken: either we've climbed (𝑛−1) steps already and have 𝑜𝑛𝑒 more step to take, or we've climbed (𝑛−2) steps already and we have two more steps to take\n",
    " \n",
    "$$\\begin{equation*}\n",
    "  F_n = \\left\\{\n",
    "    \\begin{array}{l@{}l@{}l}\n",
    "      1 &  n = 0,1\\\\\n",
    "       \\color{red}{F_{n-1}} + \\color{blue}{F_{n-2}} &  n \\ge 2\n",
    "    \\end{array}\n",
    "  \\right.\n",
    "\\end{equation*}$$\n",
    "\n",
    "Observe that this is kind of like the fibonacci formula, as seen on other notebooks there are 3 ways to solve this kind of problem:\n",
    "* Recusive Naive\n",
    "* Recussive with Memoization (DP Top-Down)\n",
    "* DP Bottom-UP\n",
    "\n",
    "#### Make it more difficult\n",
    "After first implementation expand the problem for variable step sizes ie: X=[1,3,5]\n",
    "\n",
    "#### References\n",
    "* [How many distinct ways to climb stairs in 1/2 steps](https://math.stackexchange.com/questions/789804/how-many-distinct-ways-to-climb-stairs-in-1-or-2-steps-at-a-time)\n",
    "* [Another Dynamic Programming Tutorial](https://medium.com/@avik.das/a-graphical-introduction-to-dynamic-programming-2e981fa7ca2)\n",
    "* [Video 1](https://www.youtube.com/watch?v=5o-kdjv7FD0)\n",
    "* [Video 2](https://www.youtube.com/watch?v=NFJ3m9a1oJQ)"
   ]
  },
  {
   "cell_type": "markdown",
   "metadata": {},
   "source": [
    "#### Recursive Naive"
   ]
  },
  {
   "cell_type": "code",
   "execution_count": 1,
   "metadata": {},
   "outputs": [],
   "source": [
    "def num_ways(n):\n",
    "    # This if besides avoiding errors is the only place the function\n",
    "    # returns a value\n",
    "    if n == 0 or n == 1:\n",
    "        return 1\n",
    "    elif n >=1:\n",
    "        return num_ways(n-1) + num_ways(n-2)"
   ]
  },
  {
   "cell_type": "code",
   "execution_count": 2,
   "metadata": {},
   "outputs": [
    {
     "name": "stdout",
     "output_type": "stream",
     "text": [
      "Stair steps: 0, ways to climb: 1\n",
      "Stair steps: 1, ways to climb: 1\n",
      "Stair steps: 2, ways to climb: 2\n",
      "Stair steps: 3, ways to climb: 3\n",
      "Stair steps: 4, ways to climb: 5\n",
      "Stair steps: 5, ways to climb: 8\n"
     ]
    }
   ],
   "source": [
    "[print('Stair steps: %d, ways to climb: %d' % (n,num_ways(n))) for n in range(6)];"
   ]
  },
  {
   "cell_type": "markdown",
   "metadata": {},
   "source": [
    "#### Recursive with Memoization (DP Top Down)"
   ]
  },
  {
   "cell_type": "code",
   "execution_count": 3,
   "metadata": {},
   "outputs": [],
   "source": [
    "def num_ways_dp_td(n, memo={}):\n",
    "    # This if besides avoiding errors is the only place the function\n",
    "    # returns a value\n",
    "    if n == 0 or n == 1:\n",
    "        return 1\n",
    "    elif n >=1:\n",
    "        # Check Memory first to see if already calculated\n",
    "        if n in memo:\n",
    "            return memo[n]\n",
    "        memo[n] = num_ways_dp_td(n-1) + num_ways_dp_td(n-2)\n",
    "        return memo[n]"
   ]
  },
  {
   "cell_type": "code",
   "execution_count": 4,
   "metadata": {},
   "outputs": [
    {
     "name": "stdout",
     "output_type": "stream",
     "text": [
      "Stair steps: 0, ways to climb: 1\n",
      "Stair steps: 1, ways to climb: 1\n",
      "Stair steps: 2, ways to climb: 2\n",
      "Stair steps: 3, ways to climb: 3\n",
      "Stair steps: 4, ways to climb: 5\n",
      "Stair steps: 5, ways to climb: 8\n"
     ]
    }
   ],
   "source": [
    "[print('Stair steps: %d, ways to climb: %d' % (n,num_ways_dp_td(n))) for n in range(6)];"
   ]
  },
  {
   "cell_type": "markdown",
   "metadata": {},
   "source": [
    "#### DP Bottom UP\n",
    "On this mode there is no recursion and we build an array that is used to calculate the response"
   ]
  },
  {
   "cell_type": "code",
   "execution_count": 5,
   "metadata": {},
   "outputs": [],
   "source": [
    "# O(n) sollution\n",
    "def num_ways_dp_bp(n):\n",
    "    # This if besides avoiding errors is the only place the function\n",
    "    # returns a value\n",
    "    if n == 0 or n == 1:\n",
    "        return 1\n",
    "    elif n >=1:\n",
    "        # Allocate list with n+1 elements (+1 because it will\n",
    "        # new calculation)\n",
    "        memo = [0] * (n+1)\n",
    "        memo[0], memo[1] = 1,1\n",
    "        for idx in range(2,n+1):\n",
    "            memo[idx] = memo[idx-1] + memo[idx-2]\n",
    "        return memo[n]"
   ]
  },
  {
   "cell_type": "code",
   "execution_count": 6,
   "metadata": {},
   "outputs": [
    {
     "name": "stdout",
     "output_type": "stream",
     "text": [
      "Stair steps: 0, ways to climb: 1\n",
      "Stair steps: 1, ways to climb: 1\n",
      "Stair steps: 2, ways to climb: 2\n",
      "Stair steps: 3, ways to climb: 3\n",
      "Stair steps: 4, ways to climb: 5\n",
      "Stair steps: 5, ways to climb: 8\n"
     ]
    }
   ],
   "source": [
    "[print('Stair steps: %d, ways to climb: %d' % (n,num_ways_dp_bp(n))) for n in range(6)];"
   ]
  },
  {
   "cell_type": "markdown",
   "metadata": {},
   "source": [
    "#### Expanding for more step strides\n",
    "For example instead of having strides=[1,2] now consider that we can have strides=[1,3,5]"
   ]
  },
  {
   "cell_type": "code",
   "execution_count": 7,
   "metadata": {},
   "outputs": [],
   "source": [
    "def num_ways_strides_recursive(n, strides=[1,2]):\n",
    "    # This if besides avoiding errors is the only place the function\n",
    "    # returns a value\n",
    "    if n == 0:\n",
    "        return 1\n",
    "    elif n >= 1:\n",
    "        total = 0\n",
    "        for stride in strides:\n",
    "            if (n - stride) >= 0:\n",
    "                total += num_ways_strides_recursive(n - stride)\n",
    "        return total"
   ]
  },
  {
   "cell_type": "code",
   "execution_count": 8,
   "metadata": {},
   "outputs": [
    {
     "name": "stdout",
     "output_type": "stream",
     "text": [
      "Stair steps: 0, ways to climb: 1\n",
      "Stair steps: 1, ways to climb: 1\n",
      "Stair steps: 2, ways to climb: 2\n",
      "Stair steps: 3, ways to climb: 3\n",
      "Stair steps: 4, ways to climb: 5\n",
      "Stair steps: 5, ways to climb: 8\n"
     ]
    }
   ],
   "source": [
    "[print('Stair steps: %d, ways to climb: %d' % (n,num_ways_strides_recursive(n))) for n in range(6)];"
   ]
  },
  {
   "cell_type": "code",
   "execution_count": 9,
   "metadata": {},
   "outputs": [
    {
     "name": "stdout",
     "output_type": "stream",
     "text": [
      "Stair steps: 0, ways to climb: 1\n",
      "Stair steps: 1, ways to climb: 1\n",
      "Stair steps: 2, ways to climb: 1\n",
      "Stair steps: 3, ways to climb: 3\n",
      "Stair steps: 4, ways to climb: 4\n",
      "Stair steps: 5, ways to climb: 8\n"
     ]
    }
   ],
   "source": [
    "[print('Stair steps: %d, ways to climb: %d' % (n,num_ways_strides_recursive(n, [1,3,5]))) for n in range(6)];"
   ]
  }
 ],
 "metadata": {
  "kernelspec": {
   "display_name": "Python 3",
   "language": "python",
   "name": "python3"
  },
  "language_info": {
   "codemirror_mode": {
    "name": "ipython",
    "version": 3
   },
   "file_extension": ".py",
   "mimetype": "text/x-python",
   "name": "python",
   "nbconvert_exporter": "python",
   "pygments_lexer": "ipython3",
   "version": "3.6.8"
  }
 },
 "nbformat": 4,
 "nbformat_minor": 2
}
