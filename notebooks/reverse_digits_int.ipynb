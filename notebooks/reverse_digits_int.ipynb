{
 "cells": [
  {
   "cell_type": "markdown",
   "metadata": {},
   "source": [
    "# Reverse Digits of Interger\n",
    "Given a 32-bit signed integer, reverse digits of an integer.\n",
    "\n",
    "#### Example 1:\n",
    "```bash\n",
    "Input: 123\n",
    "Output: 321\n",
    "```\n",
    "\n",
    "#### Example 2:\n",
    "```bash\n",
    "Input: -123\n",
    "Output: -321\n",
    "```\n",
    "\n",
    "#### Note\n",
    "Assume we are dealing with an environment which could only store integers within the 32-bit signed integer range: [−2^31,  2^31 − 1]. For the purpose of this problem, assume that your function returns 0 when the reversed integer overflows.\n",
    "\n",
    "#### References\n",
    "* https://leetcode.com/problems/reverse-integer/"
   ]
  },
  {
   "cell_type": "markdown",
   "metadata": {},
   "source": [
    "#### Brute Force worst"
   ]
  },
  {
   "cell_type": "code",
   "execution_count": 1,
   "metadata": {},
   "outputs": [],
   "source": [
    "def reverse(x: int):\n",
    "    if x < 0:\n",
    "        should_invert = True\n",
    "    else:\n",
    "        should_invert = False\n",
    "    str_x = str(abs(x))\n",
    "    # Pythonic way of inverting a string\n",
    "    rev_str_x = str_x[::-1]\n",
    "    result = 0\n",
    "    if should_invert:\n",
    "        result = int(rev_str_x) * -1\n",
    "    else:\n",
    "        result = int(rev_str_x)\n",
    "\n",
    "    # Avoid value out of bounds\n",
    "    if (result > (2**31 - 1)) or (result < -2**31):\n",
    "        result = 0\n",
    "    return result"
   ]
  },
  {
   "cell_type": "code",
   "execution_count": 4,
   "metadata": {},
   "outputs": [
    {
     "data": {
      "text/plain": [
       "321"
      ]
     },
     "execution_count": 4,
     "metadata": {},
     "output_type": "execute_result"
    }
   ],
   "source": [
    "reverse(123)"
   ]
  }
 ],
 "metadata": {
  "kernelspec": {
   "display_name": "Python 3",
   "language": "python",
   "name": "python3"
  },
  "language_info": {
   "codemirror_mode": {
    "name": "ipython",
    "version": 3
   },
   "file_extension": ".py",
   "mimetype": "text/x-python",
   "name": "python",
   "nbconvert_exporter": "python",
   "pygments_lexer": "ipython3",
   "version": "3.7.3"
  }
 },
 "nbformat": 4,
 "nbformat_minor": 4
}
