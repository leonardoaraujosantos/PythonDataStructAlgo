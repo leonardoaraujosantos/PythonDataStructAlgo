{
 "cells": [
  {
   "cell_type": "markdown",
   "metadata": {},
   "source": [
    "# Two Sum\n",
    "Given an array of integers, return indices of the two numbers such that they add up to a specific target.\n",
    "\n",
    "You may assume that each input would have exactly one solution, and you may not use the same element twice.\n",
    "\n",
    "#### Example:\n",
    "Given nums = [2, 7, 11, 15], target = 9,\n",
    "\n",
    "Because nums[0] + nums[1] = 2 + 7 = 9,\n",
    "return [0, 1]."
   ]
  },
  {
   "cell_type": "code",
   "execution_count": 1,
   "metadata": {},
   "outputs": [],
   "source": [
    "import big_o\n",
    "from typing import List, Tuple, Dict, TextIO"
   ]
  },
  {
   "cell_type": "code",
   "execution_count": 46,
   "metadata": {},
   "outputs": [],
   "source": [
    "\n",
    "def twoSum(nums, target=-1000) -> List[int]:\n",
    "    orig_list = nums.copy()\n",
    "    # Garantee that list is sorted\n",
    "    nums.sort()\n",
    "    left, right = 0, len(nums)-1\n",
    "    for idx in range(len(nums)):\n",
    "        sum_pair = nums[left] + nums[right]\n",
    "        if sum_pair == target:\n",
    "            break\n",
    "        if sum_pair > target:\n",
    "            right -= 1\n",
    "        else:\n",
    "            left += 1\n",
    "        if right <= left:\n",
    "            right, left = None, None\n",
    "            break\n",
    "\n",
    "    if None not in [right, left]:\n",
    "        # Get index on original list\n",
    "        if orig_list != nums:\n",
    "            idx_left = [idx for idx,val in enumerate(orig_list) if val==nums[left]]\n",
    "            idx_right = [idx for idx,val in enumerate(orig_list) if val==nums[right]]\n",
    "            left = idx_left[0]\n",
    "            right = idx_right[-1]\n",
    "    return [left, right]\n",
    "        "
   ]
  },
  {
   "cell_type": "code",
   "execution_count": 47,
   "metadata": {},
   "outputs": [
    {
     "data": {
      "text/plain": [
       "[0, 1]"
      ]
     },
     "execution_count": 47,
     "metadata": {},
     "output_type": "execute_result"
    }
   ],
   "source": [
    "twoSum([2,7,11,15],9)"
   ]
  },
  {
   "cell_type": "code",
   "execution_count": 48,
   "metadata": {},
   "outputs": [
    {
     "data": {
      "text/plain": [
       "[0, 2]"
      ]
     },
     "execution_count": 48,
     "metadata": {},
     "output_type": "execute_result"
    }
   ],
   "source": [
    "twoSum([3,2,3],6)"
   ]
  },
  {
   "cell_type": "code",
   "execution_count": 49,
   "metadata": {},
   "outputs": [],
   "source": [
    "def twoSum_memo(nums, target = -1000, mem = {}) -> List[int]:\n",
    "    orig_list = nums.copy()\n",
    "    #print('Original list:', orig_list)\n",
    "    # Garantee that list is sorted\n",
    "    nums.sort()\n",
    "    #print('New list:', nums)\n",
    "    left, right = 0, len(nums)-1\n",
    "    for idx in range(len(nums)):\n",
    "        key = (nums[left], nums[right])\n",
    "        key_inv = (nums[right], nums[left])\n",
    "        if (key in mem) or (key_inv in mem):\n",
    "            sum_pair = mem[key]\n",
    "        else:\n",
    "            sum_pair = nums[left] + nums[right]\n",
    "            mem[key] = sum_pair\n",
    "        sum_pair = nums[left] + nums[right]\n",
    "        if sum_pair == target:\n",
    "            #print('%d=%d+%d' % (sum_pair, nums[left], nums[right]) )\n",
    "            #print('left=%d right=%d' % (left, right) )\n",
    "            break\n",
    "        if sum_pair > target:\n",
    "            right -= 1\n",
    "        else:\n",
    "            left += 1\n",
    "        if right <= left:\n",
    "            #print('Not Found')\n",
    "            right, left = None, None\n",
    "            break\n",
    "\n",
    "    # Get index on original list\n",
    "    if None not in [right, left]:\n",
    "        if orig_list != nums:\n",
    "            idx_left = [idx for idx,val in enumerate(orig_list) if val==nums[left]]\n",
    "            idx_right = [idx for idx,val in enumerate(orig_list) if val==nums[right]]\n",
    "            #print('Value:', nums[left], 'in original list has index:', idx_left)\n",
    "            #print('Value:', nums[right], 'in original list has index:', idx_right)\n",
    "            #print(idx_left)\n",
    "            left = idx_left[0]\n",
    "            right = idx_right[-1]\n",
    "    return [left, right]"
   ]
  },
  {
   "cell_type": "code",
   "execution_count": 65,
   "metadata": {},
   "outputs": [
    {
     "name": "stdout",
     "output_type": "stream",
     "text": [
      "CPU times: user 13.5 s, sys: 255 ms, total: 13.7 s\n",
      "Wall time: 13.8 s\n"
     ]
    },
    {
     "data": {
      "text/plain": [
       "[None, None]"
      ]
     },
     "execution_count": 65,
     "metadata": {},
     "output_type": "execute_result"
    }
   ],
   "source": [
    "%%time\n",
    "twoSum_memo([3,2,3]*10000000,-1)"
   ]
  },
  {
   "cell_type": "code",
   "execution_count": 66,
   "metadata": {},
   "outputs": [
    {
     "name": "stdout",
     "output_type": "stream",
     "text": [
      "CPU times: user 6.59 s, sys: 211 ms, total: 6.8 s\n",
      "Wall time: 6.79 s\n"
     ]
    },
    {
     "data": {
      "text/plain": [
       "[None, None]"
      ]
     },
     "execution_count": 66,
     "metadata": {},
     "output_type": "execute_result"
    }
   ],
   "source": [
    "%%time\n",
    "twoSum([3,2,3]*10000000,-1)"
   ]
  },
  {
   "cell_type": "code",
   "execution_count": 51,
   "metadata": {},
   "outputs": [
    {
     "name": "stdout",
     "output_type": "stream",
     "text": [
      "Linearithmic: time = 0.0015 + 4.5E-07*n*log(n) (sec)\n"
     ]
    }
   ],
   "source": [
    "# Get Time complexity\n",
    "print(big_o.big_o(twoSum_memo, lambda n: sorted(big_o.datagen.integers(n, 0, 10000)), \n",
    "                  n_repeats=10, min_n=1, max_n=200000)[0])"
   ]
  },
  {
   "cell_type": "code",
   "execution_count": 52,
   "metadata": {},
   "outputs": [
    {
     "name": "stdout",
     "output_type": "stream",
     "text": [
      "Linearithmic: time = -0.014 + 2.5E-07*n*log(n) (sec)\n"
     ]
    }
   ],
   "source": [
    "# Get Time complexity\n",
    "print(big_o.big_o(twoSum, lambda n: sorted(big_o.datagen.integers(n, 0, 10000)), \n",
    "                  n_repeats=10, min_n=1, max_n=200000)[0])"
   ]
  },
  {
   "cell_type": "code",
   "execution_count": 71,
   "metadata": {},
   "outputs": [
    {
     "data": {
      "text/plain": [
       "0"
      ]
     },
     "execution_count": 71,
     "metadata": {},
     "output_type": "execute_result"
    }
   ],
   "source": [
    "20 % 10"
   ]
  },
  {
   "cell_type": "code",
   "execution_count": null,
   "metadata": {},
   "outputs": [],
   "source": []
  }
 ],
 "metadata": {
  "kernelspec": {
   "display_name": "Python 3",
   "language": "python",
   "name": "python3"
  },
  "language_info": {
   "codemirror_mode": {
    "name": "ipython",
    "version": 3
   },
   "file_extension": ".py",
   "mimetype": "text/x-python",
   "name": "python",
   "nbconvert_exporter": "python",
   "pygments_lexer": "ipython3",
   "version": "3.7.3"
  }
 },
 "nbformat": 4,
 "nbformat_minor": 4
}
