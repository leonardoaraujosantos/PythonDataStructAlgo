{
 "cells": [
  {
   "cell_type": "markdown",
   "metadata": {},
   "source": [
    "# Number of Ways (Facebook Interview)\n",
    "A message containing letters from A-Z is being encoded to numbers using the following mapping:\n",
    "\n",
    "'A' -> 1\n",
    "'B' -> 2\n",
    "...\n",
    "'Z' -> 26\n",
    "Given a non-empty string containing only digits, determine the total number of ways to decode it.\n",
    "\n",
    "#### Example 1:\n",
    "```bash\n",
    "Input: \"12\"\n",
    "Output: 2\n",
    "```\n",
    "Explanation: It could be decoded as \"AB\" (1 2) or \"L\" (12).\n",
    "\n",
    "#### Example 2:\n",
    "```bash\n",
    "Input: \"226\"\n",
    "Output: 3\n",
    "```\n",
    "Explanation: It could be decoded as \"BZ\" (2 26), \"VF\" (22 6), or \"BBF\" (2 2 6).\n",
    "\n",
    "#### Example 3\n",
    "```bash\n",
    "Input: \"0\"\n",
    "Output: 0\n",
    "```\n",
    "Explanation: It can't be decoded because there is no entry with value 0\n",
    "#### References\n",
    "* https://leetcode.com/problems/decode-ways/\n",
    "* https://www.youtube.com/watch?v=qli-JCrSwuk&t=4s"
   ]
  },
  {
   "cell_type": "code",
   "execution_count": 31,
   "metadata": {},
   "outputs": [
    {
     "data": {
      "text/plain": [
       "26"
      ]
     },
     "execution_count": 31,
     "metadata": {},
     "output_type": "execute_result"
    }
   ],
   "source": [
    "import string\n",
    "import itertools\n",
    "import numpy as np\n",
    "\n",
    "list_leters = string.ascii_uppercase[:26]\n",
    "dec_dict = {(idx_char+1):char for (idx_char,char) in enumerate(list_leters)}\n",
    "len(dec_dict.keys())"
   ]
  },
  {
   "cell_type": "code",
   "execution_count": 86,
   "metadata": {},
   "outputs": [],
   "source": [
    "def num_ways(data):\n",
    "    value = int(data)\n",
    "    # Find all possible ways to get a combination of values that sum to the number\n",
    "    \n",
    "    def decode(value):\n",
    "        # Get all possible combinationss\n",
    "        possible_combinations = []\n",
    "        for r in range(len(dec_dict.keys())+1):\n",
    "            # Get all possible combinations of size r\n",
    "            possible_combinations += itertools.combinations(dec_dict.keys(), r)\n",
    "        print('Got all possible:', len(possible_combinations), 'combinations')\n",
    "        \n",
    "        print('Searching for:', value, 'on all possible combinations')\n",
    "        correct_combinations = []\n",
    "        for combination in possible_combinations:\n",
    "            if sum(combination) == value:\n",
    "                #print('Found:', combination)\n",
    "                correct_combinations.append(combination)\n",
    "        \n",
    "        # Now get the keys on the correct combinations\n",
    "        keys = []\n",
    "        for combination in correct_combinations:\n",
    "            key_item = []\n",
    "            for item in combination:\n",
    "                key_item.append(dec_dict[item])\n",
    "            keys.append(key_item)\n",
    "    \n",
    "        return keys, possible_combinations\n",
    "    \n",
    "    keys, possible_combinations = decode(value)\n",
    "    return len(keys), keys, possible_combinations"
   ]
  },
  {
   "cell_type": "code",
   "execution_count": 87,
   "metadata": {},
   "outputs": [
    {
     "name": "stdout",
     "output_type": "stream",
     "text": [
      "Got all possible: 67108864 combinations\n",
      "Searching for: 12 on all possible combinations\n",
      "num: 15 decoded: [['L'], ['A', 'K'], ['B', 'J'], ['C', 'I'], ['D', 'H'], ['E', 'G'], ['A', 'B', 'I'], ['A', 'C', 'H'], ['A', 'D', 'G'], ['A', 'E', 'F'], ['B', 'C', 'G'], ['B', 'D', 'F'], ['C', 'D', 'E'], ['A', 'B', 'C', 'F'], ['A', 'B', 'D', 'E']]\n"
     ]
    }
   ],
   "source": [
    "num, decoded, comb = num_ways(\"12\")\n",
    "print('num:', num, 'decoded:', decoded)"
   ]
  },
  {
   "cell_type": "code",
   "execution_count": 88,
   "metadata": {},
   "outputs": [
    {
     "name": "stdout",
     "output_type": "stream",
     "text": [
      "Got all possible: 67108864 combinations\n",
      "Searching for: 226 on all possible combinations\n"
     ]
    },
    {
     "name": "stderr",
     "output_type": "stream",
     "text": [
      "IOPub data rate exceeded.\n",
      "The notebook server will temporarily stop sending output\n",
      "to the client in order to avoid crashing it.\n",
      "To change this limit, set the config variable\n",
      "`--NotebookApp.iopub_data_rate_limit`.\n",
      "\n",
      "Current values:\n",
      "NotebookApp.iopub_data_rate_limit=1000000.0 (bytes/sec)\n",
      "NotebookApp.rate_limit_window=3.0 (secs)\n",
      "\n"
     ]
    }
   ],
   "source": [
    "num, decoded, comb = num_ways(\"226\")\n",
    "print('num:', num, 'decoded:', decoded)"
   ]
  },
  {
   "cell_type": "code",
   "execution_count": 89,
   "metadata": {},
   "outputs": [
    {
     "name": "stdout",
     "output_type": "stream",
     "text": [
      "Got all possible: 67108864 combinations\n",
      "Searching for: 0 on all possible combinations\n",
      "num: 1 decoded: [[]]\n"
     ]
    }
   ],
   "source": [
    "num, decoded, comb = num_ways(\"0\")\n",
    "print('num:', num, 'decoded:', decoded)"
   ]
  }
 ],
 "metadata": {
  "kernelspec": {
   "display_name": "Python 3",
   "language": "python",
   "name": "python3"
  },
  "language_info": {
   "codemirror_mode": {
    "name": "ipython",
    "version": 3
   },
   "file_extension": ".py",
   "mimetype": "text/x-python",
   "name": "python",
   "nbconvert_exporter": "python",
   "pygments_lexer": "ipython3",
   "version": "3.6.8"
  }
 },
 "nbformat": 4,
 "nbformat_minor": 2
}
