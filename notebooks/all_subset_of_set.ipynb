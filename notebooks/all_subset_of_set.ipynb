{
 "cells": [
  {
   "cell_type": "markdown",
   "metadata": {},
   "source": [
    "# Find all Subsets of a Set\n",
    "This problem is also called \"powerset\" which is all the possible combinations of a set, for example the set $S=\\{a,b,c\\}$ will have a powerset $P=\\{ \\{\\}, \\{a\\}, \\{b\\}, \\{c\\}, \\{a,b\\}, \\{a, c\\}, \\{b, c\\}, \\{a, b, c\\} \\}$, which is $2^N$ where N is the number of elements on the input set.\n",
    "\n",
    "The power set is a set of all subsets of different sizes. In other words is a set of all combinations of different sizes.\n",
    "\n",
    "![alt text](docs/imgs/power_set.png \"Title\")\n",
    "\n",
    "### Consider as Binary\n",
    "If we consider the elements as a binary value with the same size of the set we will have...\n",
    "\n",
    "![alt text](docs/imgs/power_set2.png \"Title\")\n",
    "\n",
    "#### References\n",
    "* https://www.youtube.com/watch?v=bGC2fNALbNU\n",
    "* https://www.geeksforgeeks.org/power-set/\n",
    "* https://www.geeksforgeeks.org/backtracking-to-find-all-subsets/\n",
    "* https://www.youtube.com/watch?v=RnlHPR0lyOE"
   ]
  },
  {
   "cell_type": "code",
   "execution_count": 1,
   "metadata": {},
   "outputs": [
    {
     "name": "stdout",
     "output_type": "stream",
     "text": [
      "Number of subsets: 8\n"
     ]
    }
   ],
   "source": [
    "import itertools\n",
    "set_values = ['a','b','c']\n",
    "\n",
    "n_subsets = 2**len(set_values)\n",
    "print('Number of subsets:', n_subsets)"
   ]
  },
  {
   "cell_type": "markdown",
   "metadata": {},
   "source": [
    "#### Using Itertools"
   ]
  },
  {
   "cell_type": "code",
   "execution_count": 2,
   "metadata": {},
   "outputs": [
    {
     "name": "stdout",
     "output_type": "stream",
     "text": [
      "Size of set: 3\n",
      "Possible Combinations: 8\n",
      "[(), ('a',), ('b',), ('c',), ('a', 'b'), ('a', 'c'), ('b', 'c'), ('a', 'b', 'c')]\n"
     ]
    }
   ],
   "source": [
    "size_set = len(set_values)\n",
    "print('Size of set: %d' % size_set)\n",
    "\n",
    "possible_combinations = []\n",
    "for r in range(size_set+1):\n",
    "    possible_combinations += itertools.combinations(set_values, r)\n",
    "\n",
    "print('Possible Combinations: %d' % len(possible_combinations))\n",
    "print(possible_combinations)"
   ]
  },
  {
   "cell_type": "markdown",
   "metadata": {},
   "source": [
    "#### Brute Force $O(2^N)$"
   ]
  },
  {
   "cell_type": "code",
   "execution_count": 3,
   "metadata": {},
   "outputs": [],
   "source": [
    "def powerset(input_set):\n",
    "    num_elements = 2**len(input_set)\n",
    "    subsets = [] * num_elements\n",
    "    subsets.append(())\n",
    "    \n",
    "    # Time complexity O(2^N)\n",
    "    for size in range(1,num_elements):                \n",
    "        # Convert to a binary string with size (input_set)\n",
    "        str_bin = bin(size)[2:].zfill(len(input_set))        \n",
    "        subset = []\n",
    "        # Iterate on binary string\n",
    "        for idx in range(len(str_bin)):\n",
    "            val = int(str_bin[idx])\n",
    "            # Add value on subset\n",
    "            if val:                \n",
    "                subset.append(input_set[idx])\n",
    "        subsets.append(tuple(subset))\n",
    "                        \n",
    "    return subsets"
   ]
  },
  {
   "cell_type": "code",
   "execution_count": 4,
   "metadata": {},
   "outputs": [
    {
     "name": "stdout",
     "output_type": "stream",
     "text": [
      "Possible Combinations: 8\n",
      "[(), ('c',), ('b',), ('b', 'c'), ('a',), ('a', 'c'), ('a', 'b'), ('a', 'b', 'c')]\n"
     ]
    }
   ],
   "source": [
    "possible_combinations = powerset(set_values)\n",
    "print('Possible Combinations: %d' % len(possible_combinations))\n",
    "print(possible_combinations)"
   ]
  },
  {
   "cell_type": "markdown",
   "metadata": {},
   "source": [
    "#### Recursive Subsets"
   ]
  },
  {
   "cell_type": "code",
   "execution_count": 5,
   "metadata": {},
   "outputs": [],
   "source": [
    "def helper(given_array, subset, i):\n",
    "    if i == len(given_array):\n",
    "        print(subset)\n",
    "    else:\n",
    "        subset[i] = None\n",
    "        helper(given_array, subset, i+1)\n",
    "        subset[i] = given_array[i]\n",
    "        helper(given_array, subset, i+1)\n",
    "        \n",
    "def get_subsets(nums):\n",
    "    subset = [None] * len(nums)\n",
    "    helper(nums, subset, 0)"
   ]
  },
  {
   "cell_type": "code",
   "execution_count": 6,
   "metadata": {},
   "outputs": [
    {
     "name": "stdout",
     "output_type": "stream",
     "text": [
      "[None, None, None]\n",
      "[None, None, 'c']\n",
      "[None, 'b', None]\n",
      "[None, 'b', 'c']\n",
      "['a', None, None]\n",
      "['a', None, 'c']\n",
      "['a', 'b', None]\n",
      "['a', 'b', 'c']\n"
     ]
    }
   ],
   "source": [
    "get_subsets(set_values)"
   ]
  }
 ],
 "metadata": {
  "kernelspec": {
   "display_name": "Python 3",
   "language": "python",
   "name": "python3"
  },
  "language_info": {
   "codemirror_mode": {
    "name": "ipython",
    "version": 3
   },
   "file_extension": ".py",
   "mimetype": "text/x-python",
   "name": "python",
   "nbconvert_exporter": "python",
   "pygments_lexer": "ipython3",
   "version": "3.7.3"
  }
 },
 "nbformat": 4,
 "nbformat_minor": 4
}
