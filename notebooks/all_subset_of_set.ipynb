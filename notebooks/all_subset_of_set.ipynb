{
 "cells": [
  {
   "cell_type": "markdown",
   "metadata": {},
   "source": [
    "# Find all Subsets of a Set\n",
    "This problem is also called \"powerset\"\n",
    "\n",
    "#### References\n",
    "* https://www.youtube.com/watch?v=bGC2fNALbNU"
   ]
  },
  {
   "cell_type": "code",
   "execution_count": 4,
   "metadata": {},
   "outputs": [
    {
     "name": "stdout",
     "output_type": "stream",
     "text": [
      "Number of subsets: 8\n"
     ]
    }
   ],
   "source": [
    "import itertools\n",
    "set_values = [1,2,3]\n",
    "\n",
    "n_subsets = 2**len(set_values)\n",
    "print('Number of subsets:', n_subsets)"
   ]
  },
  {
   "cell_type": "markdown",
   "metadata": {},
   "source": [
    "#### Using Itertools"
   ]
  },
  {
   "cell_type": "code",
   "execution_count": 5,
   "metadata": {},
   "outputs": [
    {
     "name": "stdout",
     "output_type": "stream",
     "text": [
      "Size of set: 3\n",
      "Possible Combinations: 8\n",
      "[(), (1,), (2,), (3,), (1, 2), (1, 3), (2, 3), (1, 2, 3)]\n"
     ]
    }
   ],
   "source": [
    "size_set = len(set_values)\n",
    "print('Size of set: %d' % size_set)\n",
    "\n",
    "possible_combinations = []\n",
    "for r in range(size_set+1):\n",
    "    possible_combinations += itertools.combinations(set_values, r)\n",
    "\n",
    "print('Possible Combinations: %d' % len(possible_combinations))\n",
    "print(possible_combinations)"
   ]
  },
  {
   "cell_type": "markdown",
   "metadata": {},
   "source": [
    "#### Recursive Subsets"
   ]
  },
  {
   "cell_type": "code",
   "execution_count": 6,
   "metadata": {},
   "outputs": [],
   "source": [
    "def helper(given_array, subset, i):\n",
    "    if i == len(given_array):\n",
    "        print(subset)\n",
    "    else:\n",
    "        subset[i] = None\n",
    "        helper(given_array, subset, i+1)\n",
    "        subset[i] = given_array[i]\n",
    "        helper(given_array, subset, i+1)\n",
    "        \n",
    "def get_subsets(nums):\n",
    "    subset = [None] * len(nums)\n",
    "    helper(nums, subset, 0)"
   ]
  },
  {
   "cell_type": "code",
   "execution_count": 7,
   "metadata": {},
   "outputs": [
    {
     "name": "stdout",
     "output_type": "stream",
     "text": [
      "[None, None, None]\n",
      "[None, None, 3]\n",
      "[None, 2, None]\n",
      "[None, 2, 3]\n",
      "[1, None, None]\n",
      "[1, None, 3]\n",
      "[1, 2, None]\n",
      "[1, 2, 3]\n"
     ]
    }
   ],
   "source": [
    "get_subsets(set_values)"
   ]
  }
 ],
 "metadata": {
  "kernelspec": {
   "display_name": "Python 3",
   "language": "python",
   "name": "python3"
  },
  "language_info": {
   "codemirror_mode": {
    "name": "ipython",
    "version": 3
   },
   "file_extension": ".py",
   "mimetype": "text/x-python",
   "name": "python",
   "nbconvert_exporter": "python",
   "pygments_lexer": "ipython3",
   "version": "3.6.8"
  }
 },
 "nbformat": 4,
 "nbformat_minor": 2
}
