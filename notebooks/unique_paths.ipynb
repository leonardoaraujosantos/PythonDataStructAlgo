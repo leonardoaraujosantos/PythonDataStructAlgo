{
 "cells": [
  {
   "cell_type": "markdown",
   "metadata": {},
   "source": [
    "# Unique Paths\n",
    "\n",
    "A robot is located at the top-left corner of a m x n grid (marked 'Start' in the diagram below).\n",
    "\n",
    "The robot can only move either down or right at any point in time. The robot is trying to reach the bottom-right corner of the grid (marked 'Finish' in the diagram below).\n",
    "\n",
    "How many possible unique paths are there?\n",
    "\n",
    "<img src=\"docs/imgs/unique_paths.png\">\n",
    "\n",
    "Above is a 7 x 3 grid. How many possible unique paths are there?\n",
    "\n",
    "Note: m and n will be at most 100.\n",
    "\n",
    "#### Example 1:\n",
    "```bash\n",
    "Input: m = 3, n = 2\n",
    "Output: 3\n",
    "```\n",
    "Explanation:\n",
    "From the top-left corner, there are a total of 3 ways to reach the bottom-right corner:\n",
    "1. Right -> Right -> Down\n",
    "2. Right -> Down -> Right\n",
    "3. Down -> Right -> Right\n",
    "\n",
    "#### Example 2:\n",
    "```bash\n",
    "Input: m = 7, n = 3\n",
    "Output: 28\n",
    "```\n",
    "#### References\n",
    "* https://leetcode.com/problems/unique-paths/\n",
    "* https://www.youtube.com/watch?v=6qMFjFC9YSc\n",
    "* https://www.geeksforgeeks.org/count-possible-paths-top-left-bottom-right-nxm-matrix/"
   ]
  },
  {
   "cell_type": "markdown",
   "metadata": {},
   "source": [
    "#### Recursive (Brute Force)"
   ]
  },
  {
   "cell_type": "code",
   "execution_count": 1,
   "metadata": {},
   "outputs": [],
   "source": [
    "def unique_paths(m,n):\n",
    "    if (not m) or (not n):\n",
    "        return 0\n",
    "    if (m==1) or (n==1):\n",
    "        return 1\n",
    "    # If diagonal movements are allowed \n",
    "    # then the last addition \n",
    "    # is required. \n",
    "    num_unique = unique_paths(m-1, n) + unique_paths(m, n-1) \n",
    "    return num_unique"
   ]
  },
  {
   "cell_type": "code",
   "execution_count": 2,
   "metadata": {},
   "outputs": [
    {
     "data": {
      "text/plain": [
       "28"
      ]
     },
     "execution_count": 2,
     "metadata": {},
     "output_type": "execute_result"
    }
   ],
   "source": [
    "unique_paths(7,3)"
   ]
  },
  {
   "cell_type": "markdown",
   "metadata": {},
   "source": [
    "#### Add Memoization (Dynamic Programming)"
   ]
  },
  {
   "cell_type": "code",
   "execution_count": 3,
   "metadata": {},
   "outputs": [],
   "source": [
    "def unique_paths(m,n, memo={}):\n",
    "    if (not m) or (not n):\n",
    "        return 0\n",
    "    if (m==1) or (n==1):\n",
    "        return 1\n",
    "    # If diagonal movements are allowed \n",
    "    # then the last addition \n",
    "    # is required. \n",
    "    if (m,n) in memo:\n",
    "        return memo[(m,n)]\n",
    "    else:\n",
    "        num_unique = unique_paths(m-1, n) + unique_paths(m, n-1) \n",
    "        memo[(m,n)] = num_unique\n",
    "    return num_unique"
   ]
  },
  {
   "cell_type": "code",
   "execution_count": 4,
   "metadata": {},
   "outputs": [
    {
     "data": {
      "text/plain": [
       "28"
      ]
     },
     "execution_count": 4,
     "metadata": {},
     "output_type": "execute_result"
    }
   ],
   "source": [
    "unique_paths(7,3)"
   ]
  }
 ],
 "metadata": {
  "kernelspec": {
   "display_name": "Python 3",
   "language": "python",
   "name": "python3"
  },
  "language_info": {
   "codemirror_mode": {
    "name": "ipython",
    "version": 3
   },
   "file_extension": ".py",
   "mimetype": "text/x-python",
   "name": "python",
   "nbconvert_exporter": "python",
   "pygments_lexer": "ipython3",
   "version": "3.7.3"
  }
 },
 "nbformat": 4,
 "nbformat_minor": 4
}
