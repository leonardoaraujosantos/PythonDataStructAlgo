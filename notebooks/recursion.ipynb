{
 "cells": [
  {
   "cell_type": "markdown",
   "metadata": {},
   "source": [
    "# Recursion\n",
    "Recursion is a programming style used to define functions that call themselves. It helps creating clean and elegant code (just cool to show-off in interviews) but there are some caveats.\n",
    "5\n",
    "#### Example Factorial\n",
    "The factorial mathematical function has the following definition:\n",
    "$$n! = \\prod_{k=1}^{n} k_{i}$$\n",
    "The factorial recursive definition:\n",
    "$$n! = n.(n-1)!$$\n",
    "\n",
    "* $0! = 1$\n",
    "* $1! = 1$\n",
    "* $2! = 2$\n",
    "* $3! = 6$\n",
    "* $4! = 4*3*2*1 \\therefore =24$\n",
    "* $5! = 120$\n",
    "\n",
    "#### References\n",
    "* https://www.youtube.com/watch?v=Mv9NEXX1VHc\n",
    "* https://chrispenner.ca/posts/python-tail-recursion\n",
    "* https://www.youtube.com/watch?v=B0NtAFf4bvU\n",
    "* https://www.youtube.com/watch?v=HXNhEYqFo0o"
   ]
  },
  {
   "cell_type": "code",
   "execution_count": 1,
   "metadata": {},
   "outputs": [
    {
     "name": "stdout",
     "output_type": "stream",
     "text": [
      "Looking in indexes: https://pypi.python.org/simple, https://pypi.apple.com/simple\n",
      "Collecting git+https://github.com/pberkes/big_O.git\n",
      "  Cloning https://github.com/pberkes/big_O.git to /private/var/folders/jm/_7sfbzrd2lvcs9yckwy2rzw80000gn/T/pip-req-build-syz7otyx\n",
      "Requirement already satisfied (use --upgrade to upgrade): big-O==0.9 from git+https://github.com/pberkes/big_O.git in /Users/leonardo_a/anaconda3/lib/python3.6/site-packages\n",
      "Requirement already satisfied: numpy in /Users/leonardo_a/anaconda3/lib/python3.6/site-packages (from big-O==0.9) (1.17.0)\n",
      "Building wheels for collected packages: big-O\n",
      "  Running setup.py bdist_wheel for big-O ... \u001b[?25ldone\n",
      "\u001b[?25h  Stored in directory: /private/var/folders/jm/_7sfbzrd2lvcs9yckwy2rzw80000gn/T/pip-ephem-wheel-cache-gb_2uzor/wheels/ef/47/a9/34159c9cb80f76b2ae21d2a76d319c76bb62ba5380946cbe95\n",
      "Successfully built big-O\n"
     ]
    }
   ],
   "source": [
    "# Install library from github\n",
    "!pip install git+https://github.com/pberkes/big_O.git\n",
    "import big_o"
   ]
  },
  {
   "cell_type": "markdown",
   "metadata": {},
   "source": [
    "#### Recursive Definition"
   ]
  },
  {
   "cell_type": "code",
   "execution_count": 2,
   "metadata": {},
   "outputs": [],
   "source": [
    "def factorial(n):\n",
    "    if n <= 0:\n",
    "        return 1\n",
    "    else:\n",
    "        return n*factorial(n-1)"
   ]
  },
  {
   "cell_type": "code",
   "execution_count": 7,
   "metadata": {},
   "outputs": [
    {
     "name": "stdout",
     "output_type": "stream",
     "text": [
      "0!=1\n",
      "1!=1\n",
      "2!=2\n",
      "3!=6\n",
      "4!=24\n",
      "5!=120\n"
     ]
    }
   ],
   "source": [
    "for n in range(6):\n",
    "    print('%d!=%d' % (n,factorial(n)))"
   ]
  },
  {
   "cell_type": "markdown",
   "metadata": {},
   "source": [
    "#### Time complexity"
   ]
  },
  {
   "cell_type": "code",
   "execution_count": 32,
   "metadata": {},
   "outputs": [
    {
     "name": "stdout",
     "output_type": "stream",
     "text": [
      "Linear: time = 0.0012 + 0.00051*n (sec)\n"
     ]
    }
   ],
   "source": [
    "print(big_o.big_o(factorial, big_o.datagen.n_, n_repeats=1000, min_n=1, max_n=20)[0])"
   ]
  },
  {
   "cell_type": "markdown",
   "metadata": {},
   "source": [
    "#### Problems with Recursion\n",
    "In fact recursion helps writting elegant code but in practice you might encounter issues becuase there is a limit on the recursion depth."
   ]
  },
  {
   "cell_type": "code",
   "execution_count": 3,
   "metadata": {},
   "outputs": [
    {
     "ename": "RecursionError",
     "evalue": "maximum recursion depth exceeded in comparison",
     "output_type": "error",
     "traceback": [
      "\u001b[0;31m---------------------------------------------------------------------------\u001b[0m",
      "\u001b[0;31mRecursionError\u001b[0m                            Traceback (most recent call last)",
      "\u001b[0;32m<ipython-input-3-58ab6b4e4a58>\u001b[0m in \u001b[0;36m<module>\u001b[0;34m\u001b[0m\n\u001b[0;32m----> 1\u001b[0;31m \u001b[0mfactorial\u001b[0m\u001b[0;34m(\u001b[0m\u001b[0;36m10000\u001b[0m\u001b[0;34m)\u001b[0m\u001b[0;34m\u001b[0m\u001b[0;34m\u001b[0m\u001b[0m\n\u001b[0m",
      "\u001b[0;32m<ipython-input-2-2f62fb51a899>\u001b[0m in \u001b[0;36mfactorial\u001b[0;34m(n)\u001b[0m\n\u001b[1;32m      3\u001b[0m         \u001b[0;32mreturn\u001b[0m \u001b[0;36m1\u001b[0m\u001b[0;34m\u001b[0m\u001b[0;34m\u001b[0m\u001b[0m\n\u001b[1;32m      4\u001b[0m     \u001b[0;32melse\u001b[0m\u001b[0;34m:\u001b[0m\u001b[0;34m\u001b[0m\u001b[0;34m\u001b[0m\u001b[0m\n\u001b[0;32m----> 5\u001b[0;31m         \u001b[0;32mreturn\u001b[0m \u001b[0mn\u001b[0m\u001b[0;34m*\u001b[0m\u001b[0mfactorial\u001b[0m\u001b[0;34m(\u001b[0m\u001b[0mn\u001b[0m\u001b[0;34m-\u001b[0m\u001b[0;36m1\u001b[0m\u001b[0;34m)\u001b[0m\u001b[0;34m\u001b[0m\u001b[0;34m\u001b[0m\u001b[0m\n\u001b[0m",
      "... last 1 frames repeated, from the frame below ...\n",
      "\u001b[0;32m<ipython-input-2-2f62fb51a899>\u001b[0m in \u001b[0;36mfactorial\u001b[0;34m(n)\u001b[0m\n\u001b[1;32m      3\u001b[0m         \u001b[0;32mreturn\u001b[0m \u001b[0;36m1\u001b[0m\u001b[0;34m\u001b[0m\u001b[0;34m\u001b[0m\u001b[0m\n\u001b[1;32m      4\u001b[0m     \u001b[0;32melse\u001b[0m\u001b[0;34m:\u001b[0m\u001b[0;34m\u001b[0m\u001b[0;34m\u001b[0m\u001b[0m\n\u001b[0;32m----> 5\u001b[0;31m         \u001b[0;32mreturn\u001b[0m \u001b[0mn\u001b[0m\u001b[0;34m*\u001b[0m\u001b[0mfactorial\u001b[0m\u001b[0;34m(\u001b[0m\u001b[0mn\u001b[0m\u001b[0;34m-\u001b[0m\u001b[0;36m1\u001b[0m\u001b[0;34m)\u001b[0m\u001b[0;34m\u001b[0m\u001b[0;34m\u001b[0m\u001b[0m\n\u001b[0m",
      "\u001b[0;31mRecursionError\u001b[0m: maximum recursion depth exceeded in comparison"
     ]
    }
   ],
   "source": [
    "factorial(10000)"
   ]
  },
  {
   "cell_type": "code",
   "execution_count": 33,
   "metadata": {},
   "outputs": [
    {
     "ename": "ModuleNotFoundError",
     "evalue": "No module named 'tail_recursion'",
     "output_type": "error",
     "traceback": [
      "\u001b[0;31m---------------------------------------------------------------------------\u001b[0m",
      "\u001b[0;31mModuleNotFoundError\u001b[0m                       Traceback (most recent call last)",
      "\u001b[0;32m<ipython-input-33-f9f98358b2b1>\u001b[0m in \u001b[0;36m<module>\u001b[0;34m\u001b[0m\n\u001b[1;32m      1\u001b[0m \u001b[0;31m# factorial.py\u001b[0m\u001b[0;34m\u001b[0m\u001b[0;34m\u001b[0m\u001b[0;34m\u001b[0m\u001b[0m\n\u001b[0;32m----> 2\u001b[0;31m \u001b[0;32mfrom\u001b[0m \u001b[0mtail_recursion\u001b[0m \u001b[0;32mimport\u001b[0m \u001b[0mtail_recursive\u001b[0m\u001b[0;34m,\u001b[0m \u001b[0mrecurse\u001b[0m\u001b[0;34m\u001b[0m\u001b[0;34m\u001b[0m\u001b[0m\n\u001b[0m\u001b[1;32m      3\u001b[0m \u001b[0;34m\u001b[0m\u001b[0m\n\u001b[1;32m      4\u001b[0m \u001b[0;31m# Normal recursion depth maxes out at 980, this one works indefinitely\u001b[0m\u001b[0;34m\u001b[0m\u001b[0;34m\u001b[0m\u001b[0;34m\u001b[0m\u001b[0m\n\u001b[1;32m      5\u001b[0m \u001b[0;34m@\u001b[0m\u001b[0mtail_recursive\u001b[0m\u001b[0;34m\u001b[0m\u001b[0;34m\u001b[0m\u001b[0m\n",
      "\u001b[0;31mModuleNotFoundError\u001b[0m: No module named 'tail_recursion'"
     ]
    }
   ],
   "source": [
    "# factorial.py\n",
    "from tail_recursion import tail_recursive, recurse\n",
    "\n",
    "# Normal recursion depth maxes out at 980, this one works indefinitely\n",
    "@tail_recursive\n",
    "def factorial_tail(n):\n",
    "    if n <= 0:\n",
    "        return 1\n",
    "    else:\n",
    "        recurse(n*factorial_tail(n-1))"
   ]
  },
  {
   "cell_type": "code",
   "execution_count": null,
   "metadata": {},
   "outputs": [],
   "source": []
  }
 ],
 "metadata": {
  "kernelspec": {
   "display_name": "Python 3",
   "language": "python",
   "name": "python3"
  },
  "language_info": {
   "codemirror_mode": {
    "name": "ipython",
    "version": 3
   },
   "file_extension": ".py",
   "mimetype": "text/x-python",
   "name": "python",
   "nbconvert_exporter": "python",
   "pygments_lexer": "ipython3",
   "version": "3.6.8"
  }
 },
 "nbformat": 4,
 "nbformat_minor": 2
}
