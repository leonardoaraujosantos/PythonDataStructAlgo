{
 "cells": [
  {
   "cell_type": "markdown",
   "metadata": {},
   "source": [
    "# Recursion\n",
    "Recursion is a programming style used to define functions that call themselves. It helps creating clean and elegant code (just cool to show-off in interviews) but there are some caveats.\n",
    "5\n",
    "## Example Factorial\n",
    "The factorial mathematical function has the following definition:\n",
    "$$n! = \\prod_{k=1}^{n} k_{i}$$\n",
    "The factorial recursive definition:\n",
    "$$n! = n.(n-1)!$$\n",
    "\n",
    "* $0! = 1$\n",
    "* $1! = 1$\n",
    "* $2! = 2$\n",
    "* $3! = 6$\n",
    "* $4! = 4*3*2*1 \\therefore =24$\n",
    "* $5! = 120$\n",
    "\n",
    "## Example Fibonacci\n",
    "The fibonacci sequence starts with 0,1 and after that each element is the sum of the previous 2 numbers:\n",
    "$$[0,1,1,2,3,5,8,13,21,34...]$$\n",
    "![alt text](docs/imgs/fib_seq.jpg \"Title\")\n",
    "\n",
    "$$\n",
    "f(n) = \\begin{cases}\n",
    "               0               & n = 0\\\\\n",
    "               1               & n = 1\\\\\n",
    "               f(n-1) + f(n-2) & \\text{otherwise}\n",
    "           \\end{cases}\n",
    "$$\n",
    "\n",
    "### Time complexity\n",
    "It's a kind of metric used to judge the performance of an algorithm \n",
    "\n",
    "![alt text](docs/imgs/bigO.jpeg \"Title\")\n",
    "\n",
    "* Constant Time: $O(1)$\n",
    "* Logarithm Time: $O(log(n))$\n",
    "* Linear Time: $O(n)$\n",
    "* Quasilinear Time: $O(n log(n))$\n",
    "* Quadratic Time: $O(n^2)$\n",
    "* Exponential Time: $O(2^n)$\n",
    "* Factorial Time: $O(n!)$\n",
    "\n",
    "##### Constant Time\n",
    "Any operation that doesnt depend on the size of the input\n",
    "```python\n",
    "if (a>b):\n",
    "    return 1\n",
    "\n",
    "some_list[1] = 1\n",
    "a[0] = 1\n",
    "\n",
    "def func(some_list, idx):\n",
    "    return some_list(idx)\n",
    "```\n",
    "\n",
    "#### Linear Time\n",
    "Any kind of operation that runs n times\n",
    "```python\n",
    "# O(n)\n",
    "for n in some_list:\n",
    "    # O(1)\n",
    "    a = n*2 \n",
    "```\n",
    "Normally simple recursion (if only dependent of the parameter once) is also linear time.\n",
    "\n",
    "#### Quadratic Time\n",
    "We consider quadratic time when we need to perform a linear time operation for each value in the input data. One example of quadratic time algorithm is the bubble sort.\n",
    "```python\n",
    "for x in data:\n",
    "    for y in data:\n",
    "        print(x, y)\n",
    "```\n",
    "\n",
    "#### Logarithm Time\n",
    "An algorithm is said to have a logarithmic time complexity when it reduces the size of the input data in each step (it don’t need to look at all values of the input data). Algorithms of type \"Divide and Conquer\" (ie: Binary Search) are Logarithm Time\n",
    "```python\n",
    "def binarySearch(sortedList, target):\n",
    "    left = 0\n",
    "    right = len(sortedList) - 1\n",
    "    # Observe that we don't run on the whole sortedList\n",
    "    while (left <= right):\n",
    "        mid = (left + right)/2\n",
    "        if (sortedList(mid) == target):\n",
    "            return mid\n",
    "        elif(sortedList(mid) < target):\n",
    "            left = mid + 1\n",
    "        else:\n",
    "            right = mid - 1\n",
    "    # If target is not in the list, return -1\n",
    "    return -1\n",
    "```\n",
    "\n",
    "#### Exponential Time\n",
    "An algorithm is said to have an exponential time complexity when the growth doubles with each addition to the input data set. This kind of time complexity is usually seen in brute-force algorithms.\n",
    "One example of this type of algorithm is the recursive fibonacci.\n",
    "```python\n",
    "def fibonacci(n):\n",
    "    if n <= 1:\n",
    "        return n\n",
    "    return fibonacci(n-1) + fibonacci(n-2)\n",
    "```\n",
    "\n",
    "#### Factorial Time\n",
    "An algorithm is said to have a factorial time complexity when it grows in a factorial way based on the size of the input data. Ex: Travel Salesman problem.\n",
    "NP problems are example of factorial and exponential time.\n",
    "\n",
    "#### References\n",
    "* https://www.youtube.com/watch?v=Mv9NEXX1VHc\n",
    "* https://chrispenner.ca/posts/python-tail-recursion\n",
    "* https://www.youtube.com/watch?v=B0NtAFf4bvU\n",
    "* https://www.youtube.com/watch?v=HXNhEYqFo0o\n",
    "* https://wiki.python.org/moin/TimeComplexity\n",
    "* https://www.ics.uci.edu/~pattis/ICS-33/lectures/complexitypython.txt\n",
    "* https://medium.com/@cindychen13.work/a-beginners-guide-to-big-o-notation-793d654973d\n",
    "* http://www.tutorialspoint.com/data_structures_algorithms/algorithms_basics.htm\n",
    "* https://medium.com/@cindychen13.work/a-beginners-guide-to-big-o-notation-793d654973d\n",
    "* https://medium.com/swlh/a-gentle-explanation-of-logarithmic-time-complexity-79842728a702\n",
    "* https://visualgo.net/bn/recursion\n",
    "* https://towardsdatascience.com/understanding-time-complexity-with-python-examples-2bda6e8158a7\n",
    "* https://algorithm-visualizer.org/"
   ]
  },
  {
   "cell_type": "code",
   "execution_count": 1,
   "metadata": {},
   "outputs": [
    {
     "name": "stdout",
     "output_type": "stream",
     "text": [
      "Looking in indexes: https://pypi.python.org/simple, https://pypi.apple.com/simple\n",
      "Collecting git+https://github.com/pberkes/big_O.git\n",
      "  Cloning https://github.com/pberkes/big_O.git to /private/var/folders/jm/_7sfbzrd2lvcs9yckwy2rzw80000gn/T/pip-req-build-t3vlfzk4\n",
      "Requirement already satisfied (use --upgrade to upgrade): big-O==0.9 from git+https://github.com/pberkes/big_O.git in /Users/leonardo_a/anaconda3/lib/python3.6/site-packages\n",
      "Requirement already satisfied: numpy in /Users/leonardo_a/anaconda3/lib/python3.6/site-packages (from big-O==0.9) (1.17.0)\n",
      "Building wheels for collected packages: big-O\n",
      "  Running setup.py bdist_wheel for big-O ... \u001b[?25ldone\n",
      "\u001b[?25h  Stored in directory: /private/var/folders/jm/_7sfbzrd2lvcs9yckwy2rzw80000gn/T/pip-ephem-wheel-cache-695667h_/wheels/ef/47/a9/34159c9cb80f76b2ae21d2a76d319c76bb62ba5380946cbe95\n",
      "Successfully built big-O\n"
     ]
    }
   ],
   "source": [
    "# Install library from github\n",
    "!pip install git+https://github.com/pberkes/big_O.git\n",
    "import big_o"
   ]
  },
  {
   "cell_type": "markdown",
   "metadata": {},
   "source": [
    "#### Recursive Definition of Factorial"
   ]
  },
  {
   "cell_type": "code",
   "execution_count": 2,
   "metadata": {},
   "outputs": [],
   "source": [
    "def factorial(n):\n",
    "    # Normally all recursive function has an if to avoid umbound inputs\n",
    "    # O(1)\n",
    "    if n <= 0:\n",
    "        return 1\n",
    "    else:\n",
    "        # Observe that factorial call itself O(n)\n",
    "        return n*factorial(n-1)"
   ]
  },
  {
   "cell_type": "code",
   "execution_count": 3,
   "metadata": {},
   "outputs": [
    {
     "name": "stdout",
     "output_type": "stream",
     "text": [
      "0!=1\n",
      "1!=1\n",
      "2!=2\n",
      "3!=6\n",
      "4!=24\n",
      "5!=120\n"
     ]
    }
   ],
   "source": [
    "# Just print a table of values\n",
    "for n in range(6):\n",
    "    print('%d!=%d' % (n,factorial(n)))"
   ]
  },
  {
   "cell_type": "markdown",
   "metadata": {},
   "source": [
    "#### Recursive Definition of Fibonacci"
   ]
  },
  {
   "cell_type": "code",
   "execution_count": 4,
   "metadata": {},
   "outputs": [],
   "source": [
    "def fibonacci(n):\n",
    "    if n == 0:\n",
    "        return 0\n",
    "    elif n == 1:\n",
    "        return 1\n",
    "    else:\n",
    "        return fibonacci(n-1) + fibonacci(n-2)"
   ]
  },
  {
   "cell_type": "code",
   "execution_count": 5,
   "metadata": {},
   "outputs": [
    {
     "name": "stdout",
     "output_type": "stream",
     "text": [
      "Fibonnaci Sequence: [0, 1, 1, 2, 3, 5, 8, 13, 21, 34]\n"
     ]
    }
   ],
   "source": [
    "fib_sequence = [fibonacci(n) for n in range(10)]\n",
    "print('Fibonnaci Sequence:', fib_sequence)"
   ]
  },
  {
   "cell_type": "markdown",
   "metadata": {},
   "source": [
    "#### Big_O library\n",
    "This cool library also help to get the time complexity"
   ]
  },
  {
   "cell_type": "code",
   "execution_count": 6,
   "metadata": {},
   "outputs": [
    {
     "name": "stdout",
     "output_type": "stream",
     "text": [
      "Linear: time = 0.0015 + 0.00054*n (sec)\n"
     ]
    }
   ],
   "source": [
    "# Time Complexity of factorial\n",
    "print(big_o.big_o(factorial, big_o.datagen.n_, n_repeats=1000, min_n=1, max_n=20)[0])"
   ]
  },
  {
   "cell_type": "code",
   "execution_count": 7,
   "metadata": {},
   "outputs": [
    {
     "name": "stdout",
     "output_type": "stream",
     "text": [
      "Exponential: time = -11 * 0.5^n (sec)\n"
     ]
    }
   ],
   "source": [
    "# Time Complexity of factorial\n",
    "print(big_o.big_o(fibonacci, big_o.datagen.n_, n_repeats=20, min_n=1, max_n=25)[0])"
   ]
  },
  {
   "cell_type": "markdown",
   "metadata": {},
   "source": [
    "#### Problems with Recursion\n",
    "In fact recursion helps writting elegant code but in practice you might encounter issues becuase there is a limit on the recursion depth."
   ]
  },
  {
   "cell_type": "code",
   "execution_count": 8,
   "metadata": {},
   "outputs": [
    {
     "ename": "RecursionError",
     "evalue": "maximum recursion depth exceeded in comparison",
     "output_type": "error",
     "traceback": [
      "\u001b[0;31m---------------------------------------------------------------------------\u001b[0m",
      "\u001b[0;31mRecursionError\u001b[0m                            Traceback (most recent call last)",
      "\u001b[0;32m<ipython-input-8-58ab6b4e4a58>\u001b[0m in \u001b[0;36m<module>\u001b[0;34m\u001b[0m\n\u001b[0;32m----> 1\u001b[0;31m \u001b[0mfactorial\u001b[0m\u001b[0;34m(\u001b[0m\u001b[0;36m10000\u001b[0m\u001b[0;34m)\u001b[0m\u001b[0;34m\u001b[0m\u001b[0;34m\u001b[0m\u001b[0m\n\u001b[0m",
      "\u001b[0;32m<ipython-input-2-3d7317d06417>\u001b[0m in \u001b[0;36mfactorial\u001b[0;34m(n)\u001b[0m\n\u001b[1;32m      6\u001b[0m     \u001b[0;32melse\u001b[0m\u001b[0;34m:\u001b[0m\u001b[0;34m\u001b[0m\u001b[0;34m\u001b[0m\u001b[0m\n\u001b[1;32m      7\u001b[0m         \u001b[0;31m# Observe that factorial call itself O(n)\u001b[0m\u001b[0;34m\u001b[0m\u001b[0;34m\u001b[0m\u001b[0;34m\u001b[0m\u001b[0m\n\u001b[0;32m----> 8\u001b[0;31m         \u001b[0;32mreturn\u001b[0m \u001b[0mn\u001b[0m\u001b[0;34m*\u001b[0m\u001b[0mfactorial\u001b[0m\u001b[0;34m(\u001b[0m\u001b[0mn\u001b[0m\u001b[0;34m-\u001b[0m\u001b[0;36m1\u001b[0m\u001b[0;34m)\u001b[0m\u001b[0;34m\u001b[0m\u001b[0;34m\u001b[0m\u001b[0m\n\u001b[0m",
      "... last 1 frames repeated, from the frame below ...\n",
      "\u001b[0;32m<ipython-input-2-3d7317d06417>\u001b[0m in \u001b[0;36mfactorial\u001b[0;34m(n)\u001b[0m\n\u001b[1;32m      6\u001b[0m     \u001b[0;32melse\u001b[0m\u001b[0;34m:\u001b[0m\u001b[0;34m\u001b[0m\u001b[0;34m\u001b[0m\u001b[0m\n\u001b[1;32m      7\u001b[0m         \u001b[0;31m# Observe that factorial call itself O(n)\u001b[0m\u001b[0;34m\u001b[0m\u001b[0;34m\u001b[0m\u001b[0;34m\u001b[0m\u001b[0m\n\u001b[0;32m----> 8\u001b[0;31m         \u001b[0;32mreturn\u001b[0m \u001b[0mn\u001b[0m\u001b[0;34m*\u001b[0m\u001b[0mfactorial\u001b[0m\u001b[0;34m(\u001b[0m\u001b[0mn\u001b[0m\u001b[0;34m-\u001b[0m\u001b[0;36m1\u001b[0m\u001b[0;34m)\u001b[0m\u001b[0;34m\u001b[0m\u001b[0;34m\u001b[0m\u001b[0m\n\u001b[0m",
      "\u001b[0;31mRecursionError\u001b[0m: maximum recursion depth exceeded in comparison"
     ]
    }
   ],
   "source": [
    "factorial(10000)"
   ]
  }
 ],
 "metadata": {
  "kernelspec": {
   "display_name": "Python 3",
   "language": "python",
   "name": "python3"
  },
  "language_info": {
   "codemirror_mode": {
    "name": "ipython",
    "version": 3
   },
   "file_extension": ".py",
   "mimetype": "text/x-python",
   "name": "python",
   "nbconvert_exporter": "python",
   "pygments_lexer": "ipython3",
   "version": "3.6.8"
  }
 },
 "nbformat": 4,
 "nbformat_minor": 2
}
