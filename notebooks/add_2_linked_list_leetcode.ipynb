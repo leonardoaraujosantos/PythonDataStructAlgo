{
 "cells": [
  {
   "cell_type": "markdown",
   "metadata": {},
   "source": [
    "# Add Two Numbers\n",
    "You are given two non-empty linked lists representing two non-negative integers. The digits are stored in reverse order and each of their nodes contain a single digit. Add the two numbers and return it as a linked list.\n",
    "\n",
    "You may assume the two numbers do not contain any leading zero, except the number 0 itself.\n",
    "\n",
    "#### Example\n",
    "Input: (2 -> 4 -> 3) + (5 -> 6 -> 4)\n",
    "Output: 7 -> 0 -> 8\n",
    "Explanation: 342 + 465 = 807.\n",
    "\n",
    "#### Solution in Java\n",
    "```java\n",
    "public ListNode addTwoNumbers(ListNode l1, ListNode l2) {\n",
    "    ListNode dummyHead = new ListNode(0);\n",
    "    ListNode p = l1, q = l2, curr = dummyHead;\n",
    "    int carry = 0;\n",
    "    while (p != null || q != null) {\n",
    "        int x = (p != null) ? p.val : 0;\n",
    "        int y = (q != null) ? q.val : 0;\n",
    "        int sum = carry + x + y;\n",
    "        carry = sum / 10;\n",
    "        curr.next = new ListNode(sum % 10);\n",
    "        curr = curr.next;\n",
    "        if (p != null) p = p.next;\n",
    "        if (q != null) q = q.next;\n",
    "    }\n",
    "    if (carry > 0) {\n",
    "        curr.next = new ListNode(carry);\n",
    "    }\n",
    "    return dummyHead.next;\n",
    "}\n",
    "```"
   ]
  },
  {
   "cell_type": "code",
   "execution_count": 1,
   "metadata": {},
   "outputs": [],
   "source": [
    "class ListNode:\n",
    "    def __init__(self, x):\n",
    "        self.val = x\n",
    "        self.next = None"
   ]
  },
  {
   "cell_type": "code",
   "execution_count": 2,
   "metadata": {},
   "outputs": [],
   "source": [
    "def populate_list(linked_list, list_val):\n",
    "    l_curr = linked_list\n",
    "    for val in list_val:\n",
    "        node = ListNode(val)\n",
    "        l_curr.next = node\n",
    "        l_curr = node\n",
    "\n",
    "def print_list(linked_list):\n",
    "    res_list = []\n",
    "    while True:\n",
    "        if linked_list is None:\n",
    "            break\n",
    "        val = linked_list.val\n",
    "        res_list.append(val)\n",
    "        linked_list = linked_list.next\n",
    "    print(res_list)"
   ]
  },
  {
   "cell_type": "code",
   "execution_count": 3,
   "metadata": {},
   "outputs": [],
   "source": [
    "def addTwoNumbers(l1: ListNode, l2: ListNode) -> ListNode:\n",
    "    out_node = ListNode(0)\n",
    "    first_out_node = out_node\n",
    "    carry = 0\n",
    "\n",
    "    # Continue while there is something on l1 or l2\n",
    "    while (l1 or l2):\n",
    "        # Get value if there is something available otherwise consider as zero\n",
    "        v1 = l1.val if l1 else 0\n",
    "        v2 = l2.val if l2 else 0\n",
    "        sum_v1_v2 = v1 + v2 + carry\n",
    "\n",
    "        # Get carry\n",
    "        carry = sum_v1_v2 // 10\n",
    "\n",
    "        # Create output node\n",
    "        node = ListNode(sum_v1_v2 % 10)\n",
    "        out_node.next = node\n",
    "        out_node = node\n",
    "\n",
    "        if carry > 0:\n",
    "            node = ListNode(carry)\n",
    "            out_node.next = node\n",
    "\n",
    "        # Go to next element\n",
    "        if l1 is not None:\n",
    "            l1 = l1.next\n",
    "        if l2 is not None:\n",
    "            l2 = l2.next\n",
    "\n",
    "    # Disconsider the first element\n",
    "    return first_out_node.next"
   ]
  },
  {
   "cell_type": "code",
   "execution_count": 4,
   "metadata": {},
   "outputs": [
    {
     "name": "stdout",
     "output_type": "stream",
     "text": [
      "[2, 4, 3]\n",
      "[5, 6, 4]\n",
      "[7, 0, 8]\n"
     ]
    }
   ],
   "source": [
    "l1 = ListNode(2)\n",
    "populate_list(l1,[4,3])\n",
    "l2 = ListNode(5)\n",
    "populate_list(l2,[6,4])\n",
    "print_list(l1)\n",
    "print_list(l2)\n",
    "result = addTwoNumbers(l1,l2)\n",
    "print_list(result)"
   ]
  },
  {
   "cell_type": "code",
   "execution_count": 5,
   "metadata": {},
   "outputs": [
    {
     "name": "stdout",
     "output_type": "stream",
     "text": [
      "[1, 8]\n",
      "[0]\n",
      "[1, 8]\n"
     ]
    }
   ],
   "source": [
    "l1 = ListNode(1)\n",
    "populate_list(l1,[8])\n",
    "l2 = ListNode(0)\n",
    "print_list(l1)\n",
    "print_list(l2)\n",
    "result = addTwoNumbers(l1,l2)\n",
    "print_list(result)"
   ]
  },
  {
   "cell_type": "code",
   "execution_count": 6,
   "metadata": {},
   "outputs": [
    {
     "name": "stdout",
     "output_type": "stream",
     "text": [
      "[1]\n",
      "[9, 9]\n",
      "[0, 0, 1]\n"
     ]
    }
   ],
   "source": [
    "l1 = ListNode(1)\n",
    "l2 = ListNode(9)\n",
    "populate_list(l2,[9])\n",
    "print_list(l1)\n",
    "print_list(l2)\n",
    "result = addTwoNumbers(l1,l2)\n",
    "print_list(result)"
   ]
  }
 ],
 "metadata": {
  "kernelspec": {
   "display_name": "Python 3",
   "language": "python",
   "name": "python3"
  },
  "language_info": {
   "codemirror_mode": {
    "name": "ipython",
    "version": 3
   },
   "file_extension": ".py",
   "mimetype": "text/x-python",
   "name": "python",
   "nbconvert_exporter": "python",
   "pygments_lexer": "ipython3",
   "version": "3.7.3"
  }
 },
 "nbformat": 4,
 "nbformat_minor": 4
}
