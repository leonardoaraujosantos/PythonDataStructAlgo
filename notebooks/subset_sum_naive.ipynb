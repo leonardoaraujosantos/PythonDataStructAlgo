{
 "cells": [
  {
   "cell_type": "markdown",
   "metadata": {},
   "source": [
    "# Subset Sum Problem (Naive Sollution)\n",
    "Given a set of non-negative integers, and a value sum, determine if there is a subset of the given set with sum equal to given sum.\n",
    "\n",
    "```bash\n",
    "Input:  set[] = {3, 34, 4, 12, 5, 2}, sum = 9\n",
    "Output:  True  //There is a subset (4, 5) with sum 9.\n",
    "```\n",
    "\n",
    "#### NP\n",
    "This is a NP-Complete problem because it's sollution is exponential time but is really easy to know if one subset is actually the sollution.\n",
    "\n",
    "#### References\n",
    "* https://stackoverflow.com/questions/20193555/finding-combinations-to-the-provided-sum-value\n",
    "* https://stackoverflow.com/questions/21420452/subset-sum-with-itertools-combinations\n",
    "* https://github.com/saltycrane/subset-sum\n",
    "* https://stackoverflow.com/questions/18432759/subset-sum-for-large-sums\n",
    "* https://medium.com/free-code-camp/demystifying-dynamic-programming-3efafb8d4296\n",
    "* https://github.com/pberkes/big_O\n",
    "* https://stackabuse.com/big-o-notation-and-algorithm-analysis-with-python-examples/\n",
    "* https://coderbyte.com/algorithm/subset-sum-problem-revised"
   ]
  },
  {
   "cell_type": "code",
   "execution_count": 1,
   "metadata": {},
   "outputs": [],
   "source": [
    "import itertools\n",
    "import numpy as np\n",
    "#set_values = set([3,34,4,12,5,2,1,8])\n",
    "set_values = set([1,2,3,8,9,5])\n",
    "m = 9"
   ]
  },
  {
   "cell_type": "markdown",
   "metadata": {},
   "source": [
    "#### Get all possible combinations"
   ]
  },
  {
   "cell_type": "code",
   "execution_count": 2,
   "metadata": {},
   "outputs": [
    {
     "name": "stdout",
     "output_type": "stream",
     "text": [
      "Size of set: 6\n",
      "Possible Combinations: 64\n",
      "[(), (1,), (2,), (3,), (5,), (8,), (9,), (1, 2), (1, 3), (1, 5), (1, 8), (1, 9), (2, 3), (2, 5), (2, 8), (2, 9), (3, 5), (3, 8), (3, 9), (5, 8), (5, 9), (8, 9), (1, 2, 3), (1, 2, 5), (1, 2, 8), (1, 2, 9), (1, 3, 5), (1, 3, 8), (1, 3, 9), (1, 5, 8), (1, 5, 9), (1, 8, 9), (2, 3, 5), (2, 3, 8), (2, 3, 9), (2, 5, 8), (2, 5, 9), (2, 8, 9), (3, 5, 8), (3, 5, 9), (3, 8, 9), (5, 8, 9), (1, 2, 3, 5), (1, 2, 3, 8), (1, 2, 3, 9), (1, 2, 5, 8), (1, 2, 5, 9), (1, 2, 8, 9), (1, 3, 5, 8), (1, 3, 5, 9), (1, 3, 8, 9), (1, 5, 8, 9), (2, 3, 5, 8), (2, 3, 5, 9), (2, 3, 8, 9), (2, 5, 8, 9), (3, 5, 8, 9), (1, 2, 3, 5, 8), (1, 2, 3, 5, 9), (1, 2, 3, 8, 9), (1, 2, 5, 8, 9), (1, 3, 5, 8, 9), (2, 3, 5, 8, 9), (1, 2, 3, 5, 8, 9)]\n"
     ]
    }
   ],
   "source": [
    "size_set = len(set_values)\n",
    "print('Size of set: %d' % size_set)\n",
    "\n",
    "possible_combinations = []\n",
    "for r in range(size_set+1):\n",
    "    possible_combinations += itertools.combinations(set_values, r)\n",
    "\n",
    "print('Possible Combinations: %d' % len(possible_combinations))\n",
    "print(possible_combinations)"
   ]
  },
  {
   "cell_type": "markdown",
   "metadata": {},
   "source": [
    "#### Check on all possible combinations if it's sum is equal to m"
   ]
  },
  {
   "cell_type": "code",
   "execution_count": 3,
   "metadata": {},
   "outputs": [
    {
     "name": "stdout",
     "output_type": "stream",
     "text": [
      "Combination found!\n",
      "(9,)\n",
      "Combination found!\n",
      "(1, 8)\n",
      "Combination found!\n",
      "(1, 3, 5)\n"
     ]
    }
   ],
   "source": [
    "for combination in possible_combinations:\n",
    "    sum_comb = np.sum(combination)\n",
    "    if sum_comb == m:\n",
    "        print('Combination found!')\n",
    "        print(combination)"
   ]
  },
  {
   "cell_type": "markdown",
   "metadata": {},
   "source": [
    "#### Define a Function"
   ]
  },
  {
   "cell_type": "code",
   "execution_count": 4,
   "metadata": {},
   "outputs": [],
   "source": [
    "def subset_sum_naive(input_set, m):\n",
    "    result = False\n",
    "    comb = []\n",
    "    # Get all combinations\n",
    "    possible_combinations = []\n",
    "    for r in range(len(input_set)+1):\n",
    "        possible_combinations += itertools.combinations(input_set, r)\n",
    "    \n",
    "    # Check possible combinations for sum\n",
    "    for combination in possible_combinations:\n",
    "        sum_comb = np.sum(combination)\n",
    "        if sum_comb == m:\n",
    "            result = True\n",
    "            comb.append(combination)\n",
    "    \n",
    "    return result, comb"
   ]
  },
  {
   "cell_type": "code",
   "execution_count": 5,
   "metadata": {},
   "outputs": [
    {
     "data": {
      "text/plain": [
       "(True, [(1, 8), (4, 5), (1, 3, 5), (3, 4, 2)])"
      ]
     },
     "execution_count": 5,
     "metadata": {},
     "output_type": "execute_result"
    }
   ],
   "source": [
    "subset_sum_naive(set([3,34,4,12,5,2,1,8]),9)"
   ]
  }
 ],
 "metadata": {
  "kernelspec": {
   "display_name": "Python 3",
   "language": "python",
   "name": "python3"
  },
  "language_info": {
   "codemirror_mode": {
    "name": "ipython",
    "version": 3
   },
   "file_extension": ".py",
   "mimetype": "text/x-python",
   "name": "python",
   "nbconvert_exporter": "python",
   "pygments_lexer": "ipython3",
   "version": "3.6.8"
  }
 },
 "nbformat": 4,
 "nbformat_minor": 2
}
