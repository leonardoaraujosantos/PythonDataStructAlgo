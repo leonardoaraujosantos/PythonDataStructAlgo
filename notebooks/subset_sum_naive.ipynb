{
 "cells": [
  {
   "cell_type": "markdown",
   "metadata": {},
   "source": [
    "# Subset Sum Problem (Naive Sollution)\n",
    "Given a set of non-negative integers, and a value sum, determine if there is a subset of the given set with sum equal to given sum.\n",
    "\n",
    "```bash\n",
    "Input:  set[] = {3, 34, 4, 12, 5, 2}, sum = 9\n",
    "Output:  True  //There is a subset (4, 5) with sum 9.\n",
    "```\n",
    "\n",
    "#### NP\n",
    "This is a NP-Complete problem because it's sollution is exponential time but is really easy to know if one subset is actually the sollution.\n",
    "\n",
    "#### References\n",
    "* https://stackoverflow.com/questions/20193555/finding-combinations-to-the-provided-sum-value\n",
    "* https://stackoverflow.com/questions/21420452/subset-sum-with-itertools-combinations\n",
    "* https://github.com/saltycrane/subset-sum\n",
    "* https://stackoverflow.com/questions/18432759/subset-sum-for-large-sums\n",
    "* https://medium.com/free-code-camp/demystifying-dynamic-programming-3efafb8d4296"
   ]
  },
  {
   "cell_type": "code",
   "execution_count": 6,
   "metadata": {},
   "outputs": [],
   "source": [
    "set_values = set([3,34,4,12,5,2,1,8])\n",
    "m = 9"
   ]
  }
 ],
 "metadata": {
  "kernelspec": {
   "display_name": "Python 3",
   "language": "python",
   "name": "python3"
  },
  "language_info": {
   "codemirror_mode": {
    "name": "ipython",
    "version": 3
   },
   "file_extension": ".py",
   "mimetype": "text/x-python",
   "name": "python",
   "nbconvert_exporter": "python",
   "pygments_lexer": "ipython3",
   "version": "3.6.8"
  }
 },
 "nbformat": 4,
 "nbformat_minor": 2
}
