{
 "cells": [
  {
   "cell_type": "markdown",
   "metadata": {},
   "source": [
    "# Container with Most water\n",
    "Given n non-negative integers a1, a2, ..., an , where each represents a point at coordinate (i, ai). n vertical lines are drawn such that the two endpoints of line i is at (i, ai) and (i, 0). Find two lines, which together with x-axis forms a container, such that the container contains the most water.\n",
    "\n",
    "<img src=\"docs/imgs/tank.png\">\n",
    "\n",
    "Note: You may not slant the container and n is at least 2.\n",
    "\n",
    "#### Example\n",
    "Input: [1,8,6,2,5,4,8,3,7]\n",
    "Output: 49\n",
    "\n",
    "#### References\n",
    "* https://leetcode.com/problems/container-with-most-water"
   ]
  },
  {
   "cell_type": "markdown",
   "metadata": {},
   "source": [
    "#### Brute Force"
   ]
  },
  {
   "cell_type": "code",
   "execution_count": 1,
   "metadata": {},
   "outputs": [],
   "source": [
    "def maxArea(height):\n",
    "    area_list = []\n",
    "    max_area = 0\n",
    "    for idx_1 in range(len(height)):\n",
    "        for idx_2 in range(idx_1 + 1, len(height)):\n",
    "            # The valid bar will be the smallest one\n",
    "            bar = min(height[idx_2] , height[idx_1] )\n",
    "            area = bar * (idx_2 - idx_1)\n",
    "            #print(area)\n",
    "            max_area = max(area,max_area)\n",
    "\n",
    "    return max_area"
   ]
  },
  {
   "cell_type": "code",
   "execution_count": 2,
   "metadata": {},
   "outputs": [
    {
     "data": {
      "text/plain": [
       "49"
      ]
     },
     "execution_count": 2,
     "metadata": {},
     "output_type": "execute_result"
    }
   ],
   "source": [
    "bars = [1,8,6,2,5,4,8,3,7]\n",
    "maxArea(bars)"
   ]
  },
  {
   "cell_type": "markdown",
   "metadata": {},
   "source": [
    "#### 2 Pointer Solution\n",
    "Consider that the area is formed by the smallest bar and the distance between the other bar have 2 pointers one for the begining of the list and the other to the end, and move the pointers as follows:\n",
    "* Check which pointer point to the smallest line\n",
    "* Move this pointer towards the other line\n",
    "\n",
    "In other words move the smallest bar torwards the biggest bar."
   ]
  },
  {
   "cell_type": "code",
   "execution_count": 3,
   "metadata": {},
   "outputs": [],
   "source": [
    "def maxArea(height):\n",
    "    area_list = []\n",
    "    max_area = 0\n",
    "    pt_start = 0\n",
    "    pt_end = len(height) - 1\n",
    "    for idx_1 in range(len(height)):\n",
    "        # The valid bar will be the smallest one\n",
    "        bar = min(height[pt_start] , height[pt_end] )\n",
    "        area = bar * (pt_end - pt_start)\n",
    "        #print(area)\n",
    "        max_area = max(area,max_area)\n",
    "            \n",
    "        # Move pointer that is selecting the shortest bar\n",
    "        # towards the other bar\n",
    "        # If starter bar smaller than end, move towards end bar\n",
    "        if height[pt_start] < height[pt_end]:\n",
    "            # Start were smallest so move to the end\n",
    "            pt_start += 1\n",
    "        else:\n",
    "            # if end bar smaller then starter bar move end towards starter \n",
    "            pt_end -= 1\n",
    "\n",
    "    return max_area"
   ]
  },
  {
   "cell_type": "code",
   "execution_count": 4,
   "metadata": {},
   "outputs": [
    {
     "data": {
      "text/plain": [
       "49"
      ]
     },
     "execution_count": 4,
     "metadata": {},
     "output_type": "execute_result"
    }
   ],
   "source": [
    "bars = [1,8,6,2,5,4,8,3,7]\n",
    "maxArea(bars)"
   ]
  }
 ],
 "metadata": {
  "kernelspec": {
   "display_name": "Python 3",
   "language": "python",
   "name": "python3"
  },
  "language_info": {
   "codemirror_mode": {
    "name": "ipython",
    "version": 3
   },
   "file_extension": ".py",
   "mimetype": "text/x-python",
   "name": "python",
   "nbconvert_exporter": "python",
   "pygments_lexer": "ipython3",
   "version": "3.6.8"
  }
 },
 "nbformat": 4,
 "nbformat_minor": 2
}
